{
 "cells": [
  {
   "cell_type": "code",
   "execution_count": 3,
   "metadata": {},
   "outputs": [],
   "source": [
    "from gensim.summarization import summarize\n",
    "import numpy as np\n",
    "import bs4\n",
    "import requests\n",
    "from bs4 import BeautifulSoup\n",
    "import urllib.request\n",
    "\n",
    "\n",
    "def get_link_response(url:str) -> requests.Response:\n",
    "    \"\"\"\n",
    "    get_link_response gets a URL and scrapes it, returning the object.\n",
    "    \"\"\"\n",
    "    return requests.get(url)\n",
    "\n",
    "\n",
    "def choose_next_link(next_link_candidates: list) ->list:\n",
    "    \"\"\"\n",
    "    choose_next_link\n",
    "\n",
    "    Given a list of URLs strings from the website scraped, it chooses which link to go to next.\n",
    "    \"\"\"\n",
    "    url_keywords = [\"breitbart\", \"foxnews\", \"thehill\", \"dailymail\", \"wallstreet\", \"drudgereport\", \"hannity\", \"trump\"]\n",
    "    next_links = []\n",
    "    for link in urls:\n",
    "        for rightist_link in url_keywords:\n",
    "            if rightist_link in link:\n",
    "                next_links.append(link)\n",
    "\n",
    "    return next_links"
   ]
  },
  {
   "cell_type": "code",
   "execution_count": 7,
   "metadata": {},
   "outputs": [
    {
     "data": {
      "text/plain": [
       "<Response [200]>"
      ]
     },
     "execution_count": 7,
     "metadata": {},
     "output_type": "execute_result"
    }
   ],
   "source": [
    "get_link_response(\"https://news.ycombinator.com\")\n",
    "\n",
    "# 200 means Success"
   ]
  },
  {
   "cell_type": "code",
   "execution_count": 4,
   "metadata": {},
   "outputs": [],
   "source": [
    "def get_urls_on_page(url: str) -> list:\n",
    "    \"\"\"\n",
    "    get_urls_on_page\n",
    "    \n",
    "    Given a URL, returns a list of valid URLs (starting with http) on that page\n",
    "    \"\"\"\n",
    "    html = urllib.request.urlopen(url).read()\n",
    "    soup = BeautifulSoup(html)\n",
    "    links = []\n",
    "    for link in soup.find_all('a'):\n",
    "        links.append(link.get('href'))\n",
    "    return links"
   ]
  },
  {
   "cell_type": "code",
   "execution_count": 5,
   "metadata": {},
   "outputs": [
    {
     "ename": "URLError",
     "evalue": "<urlopen error [SSL: CERTIFICATE_VERIFY_FAILED] certificate verify failed: self signed certificate in certificate chain (_ssl.c:1056)>",
     "output_type": "error",
     "traceback": [
      "\u001b[0;31m---------------------------------------------------------------------------\u001b[0m",
      "\u001b[0;31mSSLCertVerificationError\u001b[0m                  Traceback (most recent call last)",
      "\u001b[0;32m/Applications/Xcode.app/Contents/Developer/Library/Frameworks/Python3.framework/Versions/3.7/lib/python3.7/urllib/request.py\u001b[0m in \u001b[0;36mdo_open\u001b[0;34m(self, http_class, req, **http_conn_args)\u001b[0m\n\u001b[1;32m   1316\u001b[0m                 h.request(req.get_method(), req.selector, req.data, headers,\n\u001b[0;32m-> 1317\u001b[0;31m                           encode_chunked=req.has_header('Transfer-encoding'))\n\u001b[0m\u001b[1;32m   1318\u001b[0m             \u001b[0;32mexcept\u001b[0m \u001b[0mOSError\u001b[0m \u001b[0;32mas\u001b[0m \u001b[0merr\u001b[0m\u001b[0;34m:\u001b[0m \u001b[0;31m# timeout error\u001b[0m\u001b[0;34m\u001b[0m\u001b[0;34m\u001b[0m\u001b[0m\n",
      "\u001b[0;32m/Applications/Xcode.app/Contents/Developer/Library/Frameworks/Python3.framework/Versions/3.7/lib/python3.7/http/client.py\u001b[0m in \u001b[0;36mrequest\u001b[0;34m(self, method, url, body, headers, encode_chunked)\u001b[0m\n\u001b[1;32m   1228\u001b[0m         \u001b[0;34m\"\"\"Send a complete request to the server.\"\"\"\u001b[0m\u001b[0;34m\u001b[0m\u001b[0;34m\u001b[0m\u001b[0m\n\u001b[0;32m-> 1229\u001b[0;31m         \u001b[0mself\u001b[0m\u001b[0;34m.\u001b[0m\u001b[0m_send_request\u001b[0m\u001b[0;34m(\u001b[0m\u001b[0mmethod\u001b[0m\u001b[0;34m,\u001b[0m \u001b[0murl\u001b[0m\u001b[0;34m,\u001b[0m \u001b[0mbody\u001b[0m\u001b[0;34m,\u001b[0m \u001b[0mheaders\u001b[0m\u001b[0;34m,\u001b[0m \u001b[0mencode_chunked\u001b[0m\u001b[0;34m)\u001b[0m\u001b[0;34m\u001b[0m\u001b[0;34m\u001b[0m\u001b[0m\n\u001b[0m\u001b[1;32m   1230\u001b[0m \u001b[0;34m\u001b[0m\u001b[0m\n",
      "\u001b[0;32m/Applications/Xcode.app/Contents/Developer/Library/Frameworks/Python3.framework/Versions/3.7/lib/python3.7/http/client.py\u001b[0m in \u001b[0;36m_send_request\u001b[0;34m(self, method, url, body, headers, encode_chunked)\u001b[0m\n\u001b[1;32m   1274\u001b[0m             \u001b[0mbody\u001b[0m \u001b[0;34m=\u001b[0m \u001b[0m_encode\u001b[0m\u001b[0;34m(\u001b[0m\u001b[0mbody\u001b[0m\u001b[0;34m,\u001b[0m \u001b[0;34m'body'\u001b[0m\u001b[0;34m)\u001b[0m\u001b[0;34m\u001b[0m\u001b[0;34m\u001b[0m\u001b[0m\n\u001b[0;32m-> 1275\u001b[0;31m         \u001b[0mself\u001b[0m\u001b[0;34m.\u001b[0m\u001b[0mendheaders\u001b[0m\u001b[0;34m(\u001b[0m\u001b[0mbody\u001b[0m\u001b[0;34m,\u001b[0m \u001b[0mencode_chunked\u001b[0m\u001b[0;34m=\u001b[0m\u001b[0mencode_chunked\u001b[0m\u001b[0;34m)\u001b[0m\u001b[0;34m\u001b[0m\u001b[0;34m\u001b[0m\u001b[0m\n\u001b[0m\u001b[1;32m   1276\u001b[0m \u001b[0;34m\u001b[0m\u001b[0m\n",
      "\u001b[0;32m/Applications/Xcode.app/Contents/Developer/Library/Frameworks/Python3.framework/Versions/3.7/lib/python3.7/http/client.py\u001b[0m in \u001b[0;36mendheaders\u001b[0;34m(self, message_body, encode_chunked)\u001b[0m\n\u001b[1;32m   1223\u001b[0m             \u001b[0;32mraise\u001b[0m \u001b[0mCannotSendHeader\u001b[0m\u001b[0;34m(\u001b[0m\u001b[0;34m)\u001b[0m\u001b[0;34m\u001b[0m\u001b[0;34m\u001b[0m\u001b[0m\n\u001b[0;32m-> 1224\u001b[0;31m         \u001b[0mself\u001b[0m\u001b[0;34m.\u001b[0m\u001b[0m_send_output\u001b[0m\u001b[0;34m(\u001b[0m\u001b[0mmessage_body\u001b[0m\u001b[0;34m,\u001b[0m \u001b[0mencode_chunked\u001b[0m\u001b[0;34m=\u001b[0m\u001b[0mencode_chunked\u001b[0m\u001b[0;34m)\u001b[0m\u001b[0;34m\u001b[0m\u001b[0;34m\u001b[0m\u001b[0m\n\u001b[0m\u001b[1;32m   1225\u001b[0m \u001b[0;34m\u001b[0m\u001b[0m\n",
      "\u001b[0;32m/Applications/Xcode.app/Contents/Developer/Library/Frameworks/Python3.framework/Versions/3.7/lib/python3.7/http/client.py\u001b[0m in \u001b[0;36m_send_output\u001b[0;34m(self, message_body, encode_chunked)\u001b[0m\n\u001b[1;32m   1015\u001b[0m         \u001b[0;32mdel\u001b[0m \u001b[0mself\u001b[0m\u001b[0;34m.\u001b[0m\u001b[0m_buffer\u001b[0m\u001b[0;34m[\u001b[0m\u001b[0;34m:\u001b[0m\u001b[0;34m]\u001b[0m\u001b[0;34m\u001b[0m\u001b[0;34m\u001b[0m\u001b[0m\n\u001b[0;32m-> 1016\u001b[0;31m         \u001b[0mself\u001b[0m\u001b[0;34m.\u001b[0m\u001b[0msend\u001b[0m\u001b[0;34m(\u001b[0m\u001b[0mmsg\u001b[0m\u001b[0;34m)\u001b[0m\u001b[0;34m\u001b[0m\u001b[0;34m\u001b[0m\u001b[0m\n\u001b[0m\u001b[1;32m   1017\u001b[0m \u001b[0;34m\u001b[0m\u001b[0m\n",
      "\u001b[0;32m/Applications/Xcode.app/Contents/Developer/Library/Frameworks/Python3.framework/Versions/3.7/lib/python3.7/http/client.py\u001b[0m in \u001b[0;36msend\u001b[0;34m(self, data)\u001b[0m\n\u001b[1;32m    955\u001b[0m             \u001b[0;32mif\u001b[0m \u001b[0mself\u001b[0m\u001b[0;34m.\u001b[0m\u001b[0mauto_open\u001b[0m\u001b[0;34m:\u001b[0m\u001b[0;34m\u001b[0m\u001b[0;34m\u001b[0m\u001b[0m\n\u001b[0;32m--> 956\u001b[0;31m                 \u001b[0mself\u001b[0m\u001b[0;34m.\u001b[0m\u001b[0mconnect\u001b[0m\u001b[0;34m(\u001b[0m\u001b[0;34m)\u001b[0m\u001b[0;34m\u001b[0m\u001b[0;34m\u001b[0m\u001b[0m\n\u001b[0m\u001b[1;32m    957\u001b[0m             \u001b[0;32melse\u001b[0m\u001b[0;34m:\u001b[0m\u001b[0;34m\u001b[0m\u001b[0;34m\u001b[0m\u001b[0m\n",
      "\u001b[0;32m/Applications/Xcode.app/Contents/Developer/Library/Frameworks/Python3.framework/Versions/3.7/lib/python3.7/http/client.py\u001b[0m in \u001b[0;36mconnect\u001b[0;34m(self)\u001b[0m\n\u001b[1;32m   1391\u001b[0m             self.sock = self._context.wrap_socket(self.sock,\n\u001b[0;32m-> 1392\u001b[0;31m                                                   server_hostname=server_hostname)\n\u001b[0m\u001b[1;32m   1393\u001b[0m \u001b[0;34m\u001b[0m\u001b[0m\n",
      "\u001b[0;32m/Applications/Xcode.app/Contents/Developer/Library/Frameworks/Python3.framework/Versions/3.7/lib/python3.7/ssl.py\u001b[0m in \u001b[0;36mwrap_socket\u001b[0;34m(self, sock, server_side, do_handshake_on_connect, suppress_ragged_eofs, server_hostname, session)\u001b[0m\n\u001b[1;32m    411\u001b[0m             \u001b[0mcontext\u001b[0m\u001b[0;34m=\u001b[0m\u001b[0mself\u001b[0m\u001b[0;34m,\u001b[0m\u001b[0;34m\u001b[0m\u001b[0;34m\u001b[0m\u001b[0m\n\u001b[0;32m--> 412\u001b[0;31m             \u001b[0msession\u001b[0m\u001b[0;34m=\u001b[0m\u001b[0msession\u001b[0m\u001b[0;34m\u001b[0m\u001b[0;34m\u001b[0m\u001b[0m\n\u001b[0m\u001b[1;32m    413\u001b[0m         )\n",
      "\u001b[0;32m/Applications/Xcode.app/Contents/Developer/Library/Frameworks/Python3.framework/Versions/3.7/lib/python3.7/ssl.py\u001b[0m in \u001b[0;36m_create\u001b[0;34m(cls, sock, server_side, do_handshake_on_connect, suppress_ragged_eofs, server_hostname, context, session)\u001b[0m\n\u001b[1;32m    852\u001b[0m                         \u001b[0;32mraise\u001b[0m \u001b[0mValueError\u001b[0m\u001b[0;34m(\u001b[0m\u001b[0;34m\"do_handshake_on_connect should not be specified for non-blocking sockets\"\u001b[0m\u001b[0;34m)\u001b[0m\u001b[0;34m\u001b[0m\u001b[0;34m\u001b[0m\u001b[0m\n\u001b[0;32m--> 853\u001b[0;31m                     \u001b[0mself\u001b[0m\u001b[0;34m.\u001b[0m\u001b[0mdo_handshake\u001b[0m\u001b[0;34m(\u001b[0m\u001b[0;34m)\u001b[0m\u001b[0;34m\u001b[0m\u001b[0;34m\u001b[0m\u001b[0m\n\u001b[0m\u001b[1;32m    854\u001b[0m             \u001b[0;32mexcept\u001b[0m \u001b[0;34m(\u001b[0m\u001b[0mOSError\u001b[0m\u001b[0;34m,\u001b[0m \u001b[0mValueError\u001b[0m\u001b[0;34m)\u001b[0m\u001b[0;34m:\u001b[0m\u001b[0;34m\u001b[0m\u001b[0;34m\u001b[0m\u001b[0m\n",
      "\u001b[0;32m/Applications/Xcode.app/Contents/Developer/Library/Frameworks/Python3.framework/Versions/3.7/lib/python3.7/ssl.py\u001b[0m in \u001b[0;36mdo_handshake\u001b[0;34m(self, block)\u001b[0m\n\u001b[1;32m   1116\u001b[0m                 \u001b[0mself\u001b[0m\u001b[0;34m.\u001b[0m\u001b[0msettimeout\u001b[0m\u001b[0;34m(\u001b[0m\u001b[0;32mNone\u001b[0m\u001b[0;34m)\u001b[0m\u001b[0;34m\u001b[0m\u001b[0;34m\u001b[0m\u001b[0m\n\u001b[0;32m-> 1117\u001b[0;31m             \u001b[0mself\u001b[0m\u001b[0;34m.\u001b[0m\u001b[0m_sslobj\u001b[0m\u001b[0;34m.\u001b[0m\u001b[0mdo_handshake\u001b[0m\u001b[0;34m(\u001b[0m\u001b[0;34m)\u001b[0m\u001b[0;34m\u001b[0m\u001b[0;34m\u001b[0m\u001b[0m\n\u001b[0m\u001b[1;32m   1118\u001b[0m         \u001b[0;32mfinally\u001b[0m\u001b[0;34m:\u001b[0m\u001b[0;34m\u001b[0m\u001b[0;34m\u001b[0m\u001b[0m\n",
      "\u001b[0;31mSSLCertVerificationError\u001b[0m: [SSL: CERTIFICATE_VERIFY_FAILED] certificate verify failed: self signed certificate in certificate chain (_ssl.c:1056)",
      "\nDuring handling of the above exception, another exception occurred:\n",
      "\u001b[0;31mURLError\u001b[0m                                  Traceback (most recent call last)",
      "\u001b[0;32m<ipython-input-5-5f6090e346b0>\u001b[0m in \u001b[0;36m<module>\u001b[0;34m\u001b[0m\n\u001b[0;32m----> 1\u001b[0;31m \u001b[0mget_urls_on_page\u001b[0m\u001b[0;34m(\u001b[0m\u001b[0;34m\"https://news.ycombinator.com\"\u001b[0m\u001b[0;34m)\u001b[0m\u001b[0;34m\u001b[0m\u001b[0;34m\u001b[0m\u001b[0m\n\u001b[0m",
      "\u001b[0;32m<ipython-input-4-805616fe375f>\u001b[0m in \u001b[0;36mget_urls_on_page\u001b[0;34m(url)\u001b[0m\n\u001b[1;32m      5\u001b[0m     \u001b[0mGiven\u001b[0m \u001b[0ma\u001b[0m \u001b[0mURL\u001b[0m\u001b[0;34m,\u001b[0m \u001b[0mreturns\u001b[0m \u001b[0ma\u001b[0m \u001b[0mlist\u001b[0m \u001b[0mof\u001b[0m \u001b[0mvalid\u001b[0m \u001b[0mURLs\u001b[0m \u001b[0;34m(\u001b[0m\u001b[0mstarting\u001b[0m \u001b[0;32mwith\u001b[0m \u001b[0mhttp\u001b[0m\u001b[0;34m)\u001b[0m \u001b[0mon\u001b[0m \u001b[0mthat\u001b[0m \u001b[0mpage\u001b[0m\u001b[0;34m\u001b[0m\u001b[0;34m\u001b[0m\u001b[0m\n\u001b[1;32m      6\u001b[0m     \"\"\"\n\u001b[0;32m----> 7\u001b[0;31m     \u001b[0mhtml\u001b[0m \u001b[0;34m=\u001b[0m \u001b[0murllib\u001b[0m\u001b[0;34m.\u001b[0m\u001b[0mrequest\u001b[0m\u001b[0;34m.\u001b[0m\u001b[0murlopen\u001b[0m\u001b[0;34m(\u001b[0m\u001b[0murl\u001b[0m\u001b[0;34m)\u001b[0m\u001b[0;34m.\u001b[0m\u001b[0mread\u001b[0m\u001b[0;34m(\u001b[0m\u001b[0;34m)\u001b[0m\u001b[0;34m\u001b[0m\u001b[0;34m\u001b[0m\u001b[0m\n\u001b[0m\u001b[1;32m      8\u001b[0m     \u001b[0msoup\u001b[0m \u001b[0;34m=\u001b[0m \u001b[0mBeautifulSoup\u001b[0m\u001b[0;34m(\u001b[0m\u001b[0mhtml\u001b[0m\u001b[0;34m)\u001b[0m\u001b[0;34m\u001b[0m\u001b[0;34m\u001b[0m\u001b[0m\n\u001b[1;32m      9\u001b[0m     \u001b[0mlinks\u001b[0m \u001b[0;34m=\u001b[0m \u001b[0;34m[\u001b[0m\u001b[0;34m]\u001b[0m\u001b[0;34m\u001b[0m\u001b[0;34m\u001b[0m\u001b[0m\n",
      "\u001b[0;32m/Applications/Xcode.app/Contents/Developer/Library/Frameworks/Python3.framework/Versions/3.7/lib/python3.7/urllib/request.py\u001b[0m in \u001b[0;36murlopen\u001b[0;34m(url, data, timeout, cafile, capath, cadefault, context)\u001b[0m\n\u001b[1;32m    220\u001b[0m     \u001b[0;32melse\u001b[0m\u001b[0;34m:\u001b[0m\u001b[0;34m\u001b[0m\u001b[0;34m\u001b[0m\u001b[0m\n\u001b[1;32m    221\u001b[0m         \u001b[0mopener\u001b[0m \u001b[0;34m=\u001b[0m \u001b[0m_opener\u001b[0m\u001b[0;34m\u001b[0m\u001b[0;34m\u001b[0m\u001b[0m\n\u001b[0;32m--> 222\u001b[0;31m     \u001b[0;32mreturn\u001b[0m \u001b[0mopener\u001b[0m\u001b[0;34m.\u001b[0m\u001b[0mopen\u001b[0m\u001b[0;34m(\u001b[0m\u001b[0murl\u001b[0m\u001b[0;34m,\u001b[0m \u001b[0mdata\u001b[0m\u001b[0;34m,\u001b[0m \u001b[0mtimeout\u001b[0m\u001b[0;34m)\u001b[0m\u001b[0;34m\u001b[0m\u001b[0;34m\u001b[0m\u001b[0m\n\u001b[0m\u001b[1;32m    223\u001b[0m \u001b[0;34m\u001b[0m\u001b[0m\n\u001b[1;32m    224\u001b[0m \u001b[0;32mdef\u001b[0m \u001b[0minstall_opener\u001b[0m\u001b[0;34m(\u001b[0m\u001b[0mopener\u001b[0m\u001b[0;34m)\u001b[0m\u001b[0;34m:\u001b[0m\u001b[0;34m\u001b[0m\u001b[0;34m\u001b[0m\u001b[0m\n",
      "\u001b[0;32m/Applications/Xcode.app/Contents/Developer/Library/Frameworks/Python3.framework/Versions/3.7/lib/python3.7/urllib/request.py\u001b[0m in \u001b[0;36mopen\u001b[0;34m(self, fullurl, data, timeout)\u001b[0m\n\u001b[1;32m    523\u001b[0m             \u001b[0mreq\u001b[0m \u001b[0;34m=\u001b[0m \u001b[0mmeth\u001b[0m\u001b[0;34m(\u001b[0m\u001b[0mreq\u001b[0m\u001b[0;34m)\u001b[0m\u001b[0;34m\u001b[0m\u001b[0;34m\u001b[0m\u001b[0m\n\u001b[1;32m    524\u001b[0m \u001b[0;34m\u001b[0m\u001b[0m\n\u001b[0;32m--> 525\u001b[0;31m         \u001b[0mresponse\u001b[0m \u001b[0;34m=\u001b[0m \u001b[0mself\u001b[0m\u001b[0;34m.\u001b[0m\u001b[0m_open\u001b[0m\u001b[0;34m(\u001b[0m\u001b[0mreq\u001b[0m\u001b[0;34m,\u001b[0m \u001b[0mdata\u001b[0m\u001b[0;34m)\u001b[0m\u001b[0;34m\u001b[0m\u001b[0;34m\u001b[0m\u001b[0m\n\u001b[0m\u001b[1;32m    526\u001b[0m \u001b[0;34m\u001b[0m\u001b[0m\n\u001b[1;32m    527\u001b[0m         \u001b[0;31m# post-process response\u001b[0m\u001b[0;34m\u001b[0m\u001b[0;34m\u001b[0m\u001b[0;34m\u001b[0m\u001b[0m\n",
      "\u001b[0;32m/Applications/Xcode.app/Contents/Developer/Library/Frameworks/Python3.framework/Versions/3.7/lib/python3.7/urllib/request.py\u001b[0m in \u001b[0;36m_open\u001b[0;34m(self, req, data)\u001b[0m\n\u001b[1;32m    541\u001b[0m         \u001b[0mprotocol\u001b[0m \u001b[0;34m=\u001b[0m \u001b[0mreq\u001b[0m\u001b[0;34m.\u001b[0m\u001b[0mtype\u001b[0m\u001b[0;34m\u001b[0m\u001b[0;34m\u001b[0m\u001b[0m\n\u001b[1;32m    542\u001b[0m         result = self._call_chain(self.handle_open, protocol, protocol +\n\u001b[0;32m--> 543\u001b[0;31m                                   '_open', req)\n\u001b[0m\u001b[1;32m    544\u001b[0m         \u001b[0;32mif\u001b[0m \u001b[0mresult\u001b[0m\u001b[0;34m:\u001b[0m\u001b[0;34m\u001b[0m\u001b[0;34m\u001b[0m\u001b[0m\n\u001b[1;32m    545\u001b[0m             \u001b[0;32mreturn\u001b[0m \u001b[0mresult\u001b[0m\u001b[0;34m\u001b[0m\u001b[0;34m\u001b[0m\u001b[0m\n",
      "\u001b[0;32m/Applications/Xcode.app/Contents/Developer/Library/Frameworks/Python3.framework/Versions/3.7/lib/python3.7/urllib/request.py\u001b[0m in \u001b[0;36m_call_chain\u001b[0;34m(self, chain, kind, meth_name, *args)\u001b[0m\n\u001b[1;32m    501\u001b[0m         \u001b[0;32mfor\u001b[0m \u001b[0mhandler\u001b[0m \u001b[0;32min\u001b[0m \u001b[0mhandlers\u001b[0m\u001b[0;34m:\u001b[0m\u001b[0;34m\u001b[0m\u001b[0;34m\u001b[0m\u001b[0m\n\u001b[1;32m    502\u001b[0m             \u001b[0mfunc\u001b[0m \u001b[0;34m=\u001b[0m \u001b[0mgetattr\u001b[0m\u001b[0;34m(\u001b[0m\u001b[0mhandler\u001b[0m\u001b[0;34m,\u001b[0m \u001b[0mmeth_name\u001b[0m\u001b[0;34m)\u001b[0m\u001b[0;34m\u001b[0m\u001b[0;34m\u001b[0m\u001b[0m\n\u001b[0;32m--> 503\u001b[0;31m             \u001b[0mresult\u001b[0m \u001b[0;34m=\u001b[0m \u001b[0mfunc\u001b[0m\u001b[0;34m(\u001b[0m\u001b[0;34m*\u001b[0m\u001b[0margs\u001b[0m\u001b[0;34m)\u001b[0m\u001b[0;34m\u001b[0m\u001b[0;34m\u001b[0m\u001b[0m\n\u001b[0m\u001b[1;32m    504\u001b[0m             \u001b[0;32mif\u001b[0m \u001b[0mresult\u001b[0m \u001b[0;32mis\u001b[0m \u001b[0;32mnot\u001b[0m \u001b[0;32mNone\u001b[0m\u001b[0;34m:\u001b[0m\u001b[0;34m\u001b[0m\u001b[0;34m\u001b[0m\u001b[0m\n\u001b[1;32m    505\u001b[0m                 \u001b[0;32mreturn\u001b[0m \u001b[0mresult\u001b[0m\u001b[0;34m\u001b[0m\u001b[0;34m\u001b[0m\u001b[0m\n",
      "\u001b[0;32m/Applications/Xcode.app/Contents/Developer/Library/Frameworks/Python3.framework/Versions/3.7/lib/python3.7/urllib/request.py\u001b[0m in \u001b[0;36mhttps_open\u001b[0;34m(self, req)\u001b[0m\n\u001b[1;32m   1358\u001b[0m         \u001b[0;32mdef\u001b[0m \u001b[0mhttps_open\u001b[0m\u001b[0;34m(\u001b[0m\u001b[0mself\u001b[0m\u001b[0;34m,\u001b[0m \u001b[0mreq\u001b[0m\u001b[0;34m)\u001b[0m\u001b[0;34m:\u001b[0m\u001b[0;34m\u001b[0m\u001b[0;34m\u001b[0m\u001b[0m\n\u001b[1;32m   1359\u001b[0m             return self.do_open(http.client.HTTPSConnection, req,\n\u001b[0;32m-> 1360\u001b[0;31m                 context=self._context, check_hostname=self._check_hostname)\n\u001b[0m\u001b[1;32m   1361\u001b[0m \u001b[0;34m\u001b[0m\u001b[0m\n\u001b[1;32m   1362\u001b[0m         \u001b[0mhttps_request\u001b[0m \u001b[0;34m=\u001b[0m \u001b[0mAbstractHTTPHandler\u001b[0m\u001b[0;34m.\u001b[0m\u001b[0mdo_request_\u001b[0m\u001b[0;34m\u001b[0m\u001b[0;34m\u001b[0m\u001b[0m\n",
      "\u001b[0;32m/Applications/Xcode.app/Contents/Developer/Library/Frameworks/Python3.framework/Versions/3.7/lib/python3.7/urllib/request.py\u001b[0m in \u001b[0;36mdo_open\u001b[0;34m(self, http_class, req, **http_conn_args)\u001b[0m\n\u001b[1;32m   1317\u001b[0m                           encode_chunked=req.has_header('Transfer-encoding'))\n\u001b[1;32m   1318\u001b[0m             \u001b[0;32mexcept\u001b[0m \u001b[0mOSError\u001b[0m \u001b[0;32mas\u001b[0m \u001b[0merr\u001b[0m\u001b[0;34m:\u001b[0m \u001b[0;31m# timeout error\u001b[0m\u001b[0;34m\u001b[0m\u001b[0;34m\u001b[0m\u001b[0m\n\u001b[0;32m-> 1319\u001b[0;31m                 \u001b[0;32mraise\u001b[0m \u001b[0mURLError\u001b[0m\u001b[0;34m(\u001b[0m\u001b[0merr\u001b[0m\u001b[0;34m)\u001b[0m\u001b[0;34m\u001b[0m\u001b[0;34m\u001b[0m\u001b[0m\n\u001b[0m\u001b[1;32m   1320\u001b[0m             \u001b[0mr\u001b[0m \u001b[0;34m=\u001b[0m \u001b[0mh\u001b[0m\u001b[0;34m.\u001b[0m\u001b[0mgetresponse\u001b[0m\u001b[0;34m(\u001b[0m\u001b[0;34m)\u001b[0m\u001b[0;34m\u001b[0m\u001b[0;34m\u001b[0m\u001b[0m\n\u001b[1;32m   1321\u001b[0m         \u001b[0;32mexcept\u001b[0m\u001b[0;34m:\u001b[0m\u001b[0;34m\u001b[0m\u001b[0;34m\u001b[0m\u001b[0m\n",
      "\u001b[0;31mURLError\u001b[0m: <urlopen error [SSL: CERTIFICATE_VERIFY_FAILED] certificate verify failed: self signed certificate in certificate chain (_ssl.c:1056)>"
     ]
    }
   ],
   "source": [
    "get_urls_on_page(\"https://news.ycombinator.com\")"
   ]
  },
  {
   "cell_type": "code",
   "execution_count": null,
   "metadata": {},
   "outputs": [],
   "source": [
    "def find_occurrences_of(url: str, word: str) -> dict:\n",
    "    \"\"\"\n",
    "    Finds occurences of given word on page.. returns something\n",
    "    \"\"\"\n",
    "    ret = dict()"
   ]
  },
  {
   "cell_type": "code",
   "execution_count": 6,
   "metadata": {},
   "outputs": [
    {
     "ename": "AttributeError",
     "evalue": "'Response' object has no attribute 'info'",
     "output_type": "error",
     "traceback": [
      "\u001b[0;31m---------------------------------------------------------------------------\u001b[0m",
      "\u001b[0;31mAttributeError\u001b[0m                            Traceback (most recent call last)",
      "\u001b[0;32m<ipython-input-6-70cbe5ba5f5c>\u001b[0m in \u001b[0;36m<module>\u001b[0;34m\u001b[0m\n\u001b[1;32m      1\u001b[0m \u001b[0mgoogle_response\u001b[0m \u001b[0;34m=\u001b[0m \u001b[0mget_link_response\u001b[0m\u001b[0;34m(\u001b[0m\u001b[0;34m\"https://www.google.com/search?q=corona\"\u001b[0m\u001b[0;34m)\u001b[0m\u001b[0;34m\u001b[0m\u001b[0;34m\u001b[0m\u001b[0m\n\u001b[0;32m----> 2\u001b[0;31m \u001b[0mprint\u001b[0m\u001b[0;34m(\u001b[0m\u001b[0mgoogle_response\u001b[0m\u001b[0;34m.\u001b[0m\u001b[0minfo\u001b[0m\u001b[0;34m)\u001b[0m\u001b[0;34m\u001b[0m\u001b[0;34m\u001b[0m\u001b[0m\n\u001b[0m",
      "\u001b[0;31mAttributeError\u001b[0m: 'Response' object has no attribute 'info'"
     ]
    }
   ],
   "source": [
    "google_response = get_link_response(\"https://www.google.com/search?q=corona\")\n",
    "print(google_response.info)"
   ]
  },
  {
   "cell_type": "code",
   "execution_count": 13,
   "metadata": {},
   "outputs": [
    {
     "data": {
      "text/plain": [
       "{'Content-Type': 'text/html; charset=ISO-8859-1', 'Date': 'Tue, 11 Feb 2020 23:45:59 GMT', 'Expires': '-1', 'Cache-Control': 'private, max-age=0', 'P3P': 'CP=\"This is not a P3P policy! See g.co/p3phelp for more info.\"', 'Content-Encoding': 'gzip', 'Server': 'gws', 'X-XSS-Protection': '0', 'X-Frame-Options': 'SAMEORIGIN', 'Set-Cookie': '1P_JAR=2020-02-11-23; expires=Thu, 12-Mar-2020 23:45:59 GMT; path=/; domain=.google.com; Secure, CGIC=IgMqLyo; expires=Sun, 09-Aug-2020 23:45:59 GMT; path=/complete/search; domain=.google.com; HttpOnly, CGIC=IgMqLyo; expires=Sun, 09-Aug-2020 23:45:59 GMT; path=/search; domain=.google.com; HttpOnly, NID=197=SWzf17__P2RMYhAPHikgiHvkQoPuo7nT8NHex2FxRWggQ3mspwRja5H8NpHlxKlEFilnL_iXcCS73Ous7I6z4-JvmfpB4s2QJMWepP5K9G-tp5MfiAjygwnzr4owRZ1urjWSiMGyySlPY9FrcC7dekvEY6YuUMzadUyMnAJlry4; expires=Wed, 12-Aug-2020 23:45:59 GMT; path=/; domain=.google.com; HttpOnly', 'Alt-Svc': 'quic=\":443\"; ma=2592000; v=\"46,43\",h3-Q050=\":443\"; ma=2592000,h3-Q049=\":443\"; ma=2592000,h3-Q048=\":443\"; ma=2592000,h3-Q046=\":443\"; ma=2592000,h3-Q043=\":443\"; ma=2592000', 'Transfer-Encoding': 'chunked'}"
      ]
     },
     "execution_count": 13,
     "metadata": {},
     "output_type": "execute_result"
    }
   ],
   "source": [
    "google_response.headers"
   ]
  },
  {
   "cell_type": "code",
   "execution_count": 11,
   "metadata": {
    "collapsed": true
   },
   "outputs": [
    {
     "ename": "HTTPError",
     "evalue": "HTTP Error 403: Forbidden",
     "output_type": "error",
     "traceback": [
      "\u001b[0;31m---------------------------------------------------------------------------\u001b[0m",
      "\u001b[0;31mHTTPError\u001b[0m                                 Traceback (most recent call last)",
      "\u001b[0;32m<ipython-input-11-7b7f24e3c531>\u001b[0m in \u001b[0;36m<module>\u001b[0;34m\u001b[0m\n\u001b[0;32m----> 1\u001b[0;31m \u001b[0mgoogle_urls\u001b[0m \u001b[0;34m=\u001b[0m \u001b[0mget_urls_on_page\u001b[0m\u001b[0;34m(\u001b[0m\u001b[0;34m\"https://www.google.com/search?q=corona\"\u001b[0m\u001b[0;34m)\u001b[0m\u001b[0;34m\u001b[0m\u001b[0;34m\u001b[0m\u001b[0m\n\u001b[0m",
      "\u001b[0;32m<ipython-input-10-805616fe375f>\u001b[0m in \u001b[0;36mget_urls_on_page\u001b[0;34m(url)\u001b[0m\n\u001b[1;32m      5\u001b[0m     \u001b[0mGiven\u001b[0m \u001b[0ma\u001b[0m \u001b[0mURL\u001b[0m\u001b[0;34m,\u001b[0m \u001b[0mreturns\u001b[0m \u001b[0ma\u001b[0m \u001b[0mlist\u001b[0m \u001b[0mof\u001b[0m \u001b[0mvalid\u001b[0m \u001b[0mURLs\u001b[0m \u001b[0;34m(\u001b[0m\u001b[0mstarting\u001b[0m \u001b[0;32mwith\u001b[0m \u001b[0mhttp\u001b[0m\u001b[0;34m)\u001b[0m \u001b[0mon\u001b[0m \u001b[0mthat\u001b[0m \u001b[0mpage\u001b[0m\u001b[0;34m\u001b[0m\u001b[0;34m\u001b[0m\u001b[0m\n\u001b[1;32m      6\u001b[0m     \"\"\"\n\u001b[0;32m----> 7\u001b[0;31m     \u001b[0mhtml\u001b[0m \u001b[0;34m=\u001b[0m \u001b[0murllib\u001b[0m\u001b[0;34m.\u001b[0m\u001b[0mrequest\u001b[0m\u001b[0;34m.\u001b[0m\u001b[0murlopen\u001b[0m\u001b[0;34m(\u001b[0m\u001b[0murl\u001b[0m\u001b[0;34m)\u001b[0m\u001b[0;34m.\u001b[0m\u001b[0mread\u001b[0m\u001b[0;34m(\u001b[0m\u001b[0;34m)\u001b[0m\u001b[0;34m\u001b[0m\u001b[0;34m\u001b[0m\u001b[0m\n\u001b[0m\u001b[1;32m      8\u001b[0m     \u001b[0msoup\u001b[0m \u001b[0;34m=\u001b[0m \u001b[0mBeautifulSoup\u001b[0m\u001b[0;34m(\u001b[0m\u001b[0mhtml\u001b[0m\u001b[0;34m)\u001b[0m\u001b[0;34m\u001b[0m\u001b[0;34m\u001b[0m\u001b[0m\n\u001b[1;32m      9\u001b[0m     \u001b[0mlinks\u001b[0m \u001b[0;34m=\u001b[0m \u001b[0;34m[\u001b[0m\u001b[0;34m]\u001b[0m\u001b[0;34m\u001b[0m\u001b[0;34m\u001b[0m\u001b[0m\n",
      "\u001b[0;32m/usr/local/Cellar/python/3.7.6_1/Frameworks/Python.framework/Versions/3.7/lib/python3.7/urllib/request.py\u001b[0m in \u001b[0;36murlopen\u001b[0;34m(url, data, timeout, cafile, capath, cadefault, context)\u001b[0m\n\u001b[1;32m    220\u001b[0m     \u001b[0;32melse\u001b[0m\u001b[0;34m:\u001b[0m\u001b[0;34m\u001b[0m\u001b[0;34m\u001b[0m\u001b[0m\n\u001b[1;32m    221\u001b[0m         \u001b[0mopener\u001b[0m \u001b[0;34m=\u001b[0m \u001b[0m_opener\u001b[0m\u001b[0;34m\u001b[0m\u001b[0;34m\u001b[0m\u001b[0m\n\u001b[0;32m--> 222\u001b[0;31m     \u001b[0;32mreturn\u001b[0m \u001b[0mopener\u001b[0m\u001b[0;34m.\u001b[0m\u001b[0mopen\u001b[0m\u001b[0;34m(\u001b[0m\u001b[0murl\u001b[0m\u001b[0;34m,\u001b[0m \u001b[0mdata\u001b[0m\u001b[0;34m,\u001b[0m \u001b[0mtimeout\u001b[0m\u001b[0;34m)\u001b[0m\u001b[0;34m\u001b[0m\u001b[0;34m\u001b[0m\u001b[0m\n\u001b[0m\u001b[1;32m    223\u001b[0m \u001b[0;34m\u001b[0m\u001b[0m\n\u001b[1;32m    224\u001b[0m \u001b[0;32mdef\u001b[0m \u001b[0minstall_opener\u001b[0m\u001b[0;34m(\u001b[0m\u001b[0mopener\u001b[0m\u001b[0;34m)\u001b[0m\u001b[0;34m:\u001b[0m\u001b[0;34m\u001b[0m\u001b[0;34m\u001b[0m\u001b[0m\n",
      "\u001b[0;32m/usr/local/Cellar/python/3.7.6_1/Frameworks/Python.framework/Versions/3.7/lib/python3.7/urllib/request.py\u001b[0m in \u001b[0;36mopen\u001b[0;34m(self, fullurl, data, timeout)\u001b[0m\n\u001b[1;32m    529\u001b[0m         \u001b[0;32mfor\u001b[0m \u001b[0mprocessor\u001b[0m \u001b[0;32min\u001b[0m \u001b[0mself\u001b[0m\u001b[0;34m.\u001b[0m\u001b[0mprocess_response\u001b[0m\u001b[0;34m.\u001b[0m\u001b[0mget\u001b[0m\u001b[0;34m(\u001b[0m\u001b[0mprotocol\u001b[0m\u001b[0;34m,\u001b[0m \u001b[0;34m[\u001b[0m\u001b[0;34m]\u001b[0m\u001b[0;34m)\u001b[0m\u001b[0;34m:\u001b[0m\u001b[0;34m\u001b[0m\u001b[0;34m\u001b[0m\u001b[0m\n\u001b[1;32m    530\u001b[0m             \u001b[0mmeth\u001b[0m \u001b[0;34m=\u001b[0m \u001b[0mgetattr\u001b[0m\u001b[0;34m(\u001b[0m\u001b[0mprocessor\u001b[0m\u001b[0;34m,\u001b[0m \u001b[0mmeth_name\u001b[0m\u001b[0;34m)\u001b[0m\u001b[0;34m\u001b[0m\u001b[0;34m\u001b[0m\u001b[0m\n\u001b[0;32m--> 531\u001b[0;31m             \u001b[0mresponse\u001b[0m \u001b[0;34m=\u001b[0m \u001b[0mmeth\u001b[0m\u001b[0;34m(\u001b[0m\u001b[0mreq\u001b[0m\u001b[0;34m,\u001b[0m \u001b[0mresponse\u001b[0m\u001b[0;34m)\u001b[0m\u001b[0;34m\u001b[0m\u001b[0;34m\u001b[0m\u001b[0m\n\u001b[0m\u001b[1;32m    532\u001b[0m \u001b[0;34m\u001b[0m\u001b[0m\n\u001b[1;32m    533\u001b[0m         \u001b[0;32mreturn\u001b[0m \u001b[0mresponse\u001b[0m\u001b[0;34m\u001b[0m\u001b[0;34m\u001b[0m\u001b[0m\n",
      "\u001b[0;32m/usr/local/Cellar/python/3.7.6_1/Frameworks/Python.framework/Versions/3.7/lib/python3.7/urllib/request.py\u001b[0m in \u001b[0;36mhttp_response\u001b[0;34m(self, request, response)\u001b[0m\n\u001b[1;32m    639\u001b[0m         \u001b[0;32mif\u001b[0m \u001b[0;32mnot\u001b[0m \u001b[0;34m(\u001b[0m\u001b[0;36m200\u001b[0m \u001b[0;34m<=\u001b[0m \u001b[0mcode\u001b[0m \u001b[0;34m<\u001b[0m \u001b[0;36m300\u001b[0m\u001b[0;34m)\u001b[0m\u001b[0;34m:\u001b[0m\u001b[0;34m\u001b[0m\u001b[0;34m\u001b[0m\u001b[0m\n\u001b[1;32m    640\u001b[0m             response = self.parent.error(\n\u001b[0;32m--> 641\u001b[0;31m                 'http', request, response, code, msg, hdrs)\n\u001b[0m\u001b[1;32m    642\u001b[0m \u001b[0;34m\u001b[0m\u001b[0m\n\u001b[1;32m    643\u001b[0m         \u001b[0;32mreturn\u001b[0m \u001b[0mresponse\u001b[0m\u001b[0;34m\u001b[0m\u001b[0;34m\u001b[0m\u001b[0m\n",
      "\u001b[0;32m/usr/local/Cellar/python/3.7.6_1/Frameworks/Python.framework/Versions/3.7/lib/python3.7/urllib/request.py\u001b[0m in \u001b[0;36merror\u001b[0;34m(self, proto, *args)\u001b[0m\n\u001b[1;32m    567\u001b[0m         \u001b[0;32mif\u001b[0m \u001b[0mhttp_err\u001b[0m\u001b[0;34m:\u001b[0m\u001b[0;34m\u001b[0m\u001b[0;34m\u001b[0m\u001b[0m\n\u001b[1;32m    568\u001b[0m             \u001b[0margs\u001b[0m \u001b[0;34m=\u001b[0m \u001b[0;34m(\u001b[0m\u001b[0mdict\u001b[0m\u001b[0;34m,\u001b[0m \u001b[0;34m'default'\u001b[0m\u001b[0;34m,\u001b[0m \u001b[0;34m'http_error_default'\u001b[0m\u001b[0;34m)\u001b[0m \u001b[0;34m+\u001b[0m \u001b[0morig_args\u001b[0m\u001b[0;34m\u001b[0m\u001b[0;34m\u001b[0m\u001b[0m\n\u001b[0;32m--> 569\u001b[0;31m             \u001b[0;32mreturn\u001b[0m \u001b[0mself\u001b[0m\u001b[0;34m.\u001b[0m\u001b[0m_call_chain\u001b[0m\u001b[0;34m(\u001b[0m\u001b[0;34m*\u001b[0m\u001b[0margs\u001b[0m\u001b[0;34m)\u001b[0m\u001b[0;34m\u001b[0m\u001b[0;34m\u001b[0m\u001b[0m\n\u001b[0m\u001b[1;32m    570\u001b[0m \u001b[0;34m\u001b[0m\u001b[0m\n\u001b[1;32m    571\u001b[0m \u001b[0;31m# XXX probably also want an abstract factory that knows when it makes\u001b[0m\u001b[0;34m\u001b[0m\u001b[0;34m\u001b[0m\u001b[0;34m\u001b[0m\u001b[0m\n",
      "\u001b[0;32m/usr/local/Cellar/python/3.7.6_1/Frameworks/Python.framework/Versions/3.7/lib/python3.7/urllib/request.py\u001b[0m in \u001b[0;36m_call_chain\u001b[0;34m(self, chain, kind, meth_name, *args)\u001b[0m\n\u001b[1;32m    501\u001b[0m         \u001b[0;32mfor\u001b[0m \u001b[0mhandler\u001b[0m \u001b[0;32min\u001b[0m \u001b[0mhandlers\u001b[0m\u001b[0;34m:\u001b[0m\u001b[0;34m\u001b[0m\u001b[0;34m\u001b[0m\u001b[0m\n\u001b[1;32m    502\u001b[0m             \u001b[0mfunc\u001b[0m \u001b[0;34m=\u001b[0m \u001b[0mgetattr\u001b[0m\u001b[0;34m(\u001b[0m\u001b[0mhandler\u001b[0m\u001b[0;34m,\u001b[0m \u001b[0mmeth_name\u001b[0m\u001b[0;34m)\u001b[0m\u001b[0;34m\u001b[0m\u001b[0;34m\u001b[0m\u001b[0m\n\u001b[0;32m--> 503\u001b[0;31m             \u001b[0mresult\u001b[0m \u001b[0;34m=\u001b[0m \u001b[0mfunc\u001b[0m\u001b[0;34m(\u001b[0m\u001b[0;34m*\u001b[0m\u001b[0margs\u001b[0m\u001b[0;34m)\u001b[0m\u001b[0;34m\u001b[0m\u001b[0;34m\u001b[0m\u001b[0m\n\u001b[0m\u001b[1;32m    504\u001b[0m             \u001b[0;32mif\u001b[0m \u001b[0mresult\u001b[0m \u001b[0;32mis\u001b[0m \u001b[0;32mnot\u001b[0m \u001b[0;32mNone\u001b[0m\u001b[0;34m:\u001b[0m\u001b[0;34m\u001b[0m\u001b[0;34m\u001b[0m\u001b[0m\n\u001b[1;32m    505\u001b[0m                 \u001b[0;32mreturn\u001b[0m \u001b[0mresult\u001b[0m\u001b[0;34m\u001b[0m\u001b[0;34m\u001b[0m\u001b[0m\n",
      "\u001b[0;32m/usr/local/Cellar/python/3.7.6_1/Frameworks/Python.framework/Versions/3.7/lib/python3.7/urllib/request.py\u001b[0m in \u001b[0;36mhttp_error_default\u001b[0;34m(self, req, fp, code, msg, hdrs)\u001b[0m\n\u001b[1;32m    647\u001b[0m \u001b[0;32mclass\u001b[0m \u001b[0mHTTPDefaultErrorHandler\u001b[0m\u001b[0;34m(\u001b[0m\u001b[0mBaseHandler\u001b[0m\u001b[0;34m)\u001b[0m\u001b[0;34m:\u001b[0m\u001b[0;34m\u001b[0m\u001b[0;34m\u001b[0m\u001b[0m\n\u001b[1;32m    648\u001b[0m     \u001b[0;32mdef\u001b[0m \u001b[0mhttp_error_default\u001b[0m\u001b[0;34m(\u001b[0m\u001b[0mself\u001b[0m\u001b[0;34m,\u001b[0m \u001b[0mreq\u001b[0m\u001b[0;34m,\u001b[0m \u001b[0mfp\u001b[0m\u001b[0;34m,\u001b[0m \u001b[0mcode\u001b[0m\u001b[0;34m,\u001b[0m \u001b[0mmsg\u001b[0m\u001b[0;34m,\u001b[0m \u001b[0mhdrs\u001b[0m\u001b[0;34m)\u001b[0m\u001b[0;34m:\u001b[0m\u001b[0;34m\u001b[0m\u001b[0;34m\u001b[0m\u001b[0m\n\u001b[0;32m--> 649\u001b[0;31m         \u001b[0;32mraise\u001b[0m \u001b[0mHTTPError\u001b[0m\u001b[0;34m(\u001b[0m\u001b[0mreq\u001b[0m\u001b[0;34m.\u001b[0m\u001b[0mfull_url\u001b[0m\u001b[0;34m,\u001b[0m \u001b[0mcode\u001b[0m\u001b[0;34m,\u001b[0m \u001b[0mmsg\u001b[0m\u001b[0;34m,\u001b[0m \u001b[0mhdrs\u001b[0m\u001b[0;34m,\u001b[0m \u001b[0mfp\u001b[0m\u001b[0;34m)\u001b[0m\u001b[0;34m\u001b[0m\u001b[0;34m\u001b[0m\u001b[0m\n\u001b[0m\u001b[1;32m    650\u001b[0m \u001b[0;34m\u001b[0m\u001b[0m\n\u001b[1;32m    651\u001b[0m \u001b[0;32mclass\u001b[0m \u001b[0mHTTPRedirectHandler\u001b[0m\u001b[0;34m(\u001b[0m\u001b[0mBaseHandler\u001b[0m\u001b[0;34m)\u001b[0m\u001b[0;34m:\u001b[0m\u001b[0;34m\u001b[0m\u001b[0;34m\u001b[0m\u001b[0m\n",
      "\u001b[0;31mHTTPError\u001b[0m: HTTP Error 403: Forbidden"
     ]
    }
   ],
   "source": [
    "google_urls = get_urls_on_page(\"https://www.google.com/search?q=corona\")"
   ]
  },
  {
   "cell_type": "code",
   "execution_count": 4,
   "metadata": {},
   "outputs": [],
   "source": [
    "url_ = \"https://www.google.com/search?q=corona\"\n",
    "url2_ = \"https://news.ycombinator.com\"\n",
    "r = requests.head(url=url2_)"
   ]
  },
  {
   "cell_type": "code",
   "execution_count": 19,
   "metadata": {},
   "outputs": [
    {
     "data": {
      "text/plain": [
       "{'Server': 'nginx', 'Date': 'Tue, 11 Feb 2020 23:54:07 GMT', 'Content-Type': 'text/html', 'Content-Length': '166', 'Connection': 'keep-alive'}"
      ]
     },
     "execution_count": 19,
     "metadata": {},
     "output_type": "execute_result"
    }
   ],
   "source": [
    "r.headers"
   ]
  },
  {
   "cell_type": "code",
   "execution_count": 11,
   "metadata": {
    "collapsed": true
   },
   "outputs": [
    {
     "ename": "HTTPError",
     "evalue": "HTTP Error 403: Forbidden",
     "output_type": "error",
     "traceback": [
      "\u001b[0;31m---------------------------------------------------------------------------\u001b[0m",
      "\u001b[0;31mHTTPError\u001b[0m                                 Traceback (most recent call last)",
      "\u001b[0;32m<ipython-input-11-a703817f4787>\u001b[0m in \u001b[0;36m<module>\u001b[0;34m\u001b[0m\n\u001b[0;32m----> 1\u001b[0;31m \u001b[0murls\u001b[0m \u001b[0;34m=\u001b[0m \u001b[0mget_urls_on_page\u001b[0m\u001b[0;34m(\u001b[0m\u001b[0murl_\u001b[0m\u001b[0;34m)\u001b[0m\u001b[0;34m\u001b[0m\u001b[0;34m\u001b[0m\u001b[0m\n\u001b[0m",
      "\u001b[0;32m<ipython-input-2-805616fe375f>\u001b[0m in \u001b[0;36mget_urls_on_page\u001b[0;34m(url)\u001b[0m\n\u001b[1;32m      5\u001b[0m     \u001b[0mGiven\u001b[0m \u001b[0ma\u001b[0m \u001b[0mURL\u001b[0m\u001b[0;34m,\u001b[0m \u001b[0mreturns\u001b[0m \u001b[0ma\u001b[0m \u001b[0mlist\u001b[0m \u001b[0mof\u001b[0m \u001b[0mvalid\u001b[0m \u001b[0mURLs\u001b[0m \u001b[0;34m(\u001b[0m\u001b[0mstarting\u001b[0m \u001b[0;32mwith\u001b[0m \u001b[0mhttp\u001b[0m\u001b[0;34m)\u001b[0m \u001b[0mon\u001b[0m \u001b[0mthat\u001b[0m \u001b[0mpage\u001b[0m\u001b[0;34m\u001b[0m\u001b[0;34m\u001b[0m\u001b[0m\n\u001b[1;32m      6\u001b[0m     \"\"\"\n\u001b[0;32m----> 7\u001b[0;31m     \u001b[0mhtml\u001b[0m \u001b[0;34m=\u001b[0m \u001b[0murllib\u001b[0m\u001b[0;34m.\u001b[0m\u001b[0mrequest\u001b[0m\u001b[0;34m.\u001b[0m\u001b[0murlopen\u001b[0m\u001b[0;34m(\u001b[0m\u001b[0murl\u001b[0m\u001b[0;34m)\u001b[0m\u001b[0;34m.\u001b[0m\u001b[0mread\u001b[0m\u001b[0;34m(\u001b[0m\u001b[0;34m)\u001b[0m\u001b[0;34m\u001b[0m\u001b[0;34m\u001b[0m\u001b[0m\n\u001b[0m\u001b[1;32m      8\u001b[0m     \u001b[0msoup\u001b[0m \u001b[0;34m=\u001b[0m \u001b[0mBeautifulSoup\u001b[0m\u001b[0;34m(\u001b[0m\u001b[0mhtml\u001b[0m\u001b[0;34m)\u001b[0m\u001b[0;34m\u001b[0m\u001b[0;34m\u001b[0m\u001b[0m\n\u001b[1;32m      9\u001b[0m     \u001b[0mlinks\u001b[0m \u001b[0;34m=\u001b[0m \u001b[0;34m[\u001b[0m\u001b[0;34m]\u001b[0m\u001b[0;34m\u001b[0m\u001b[0;34m\u001b[0m\u001b[0m\n",
      "\u001b[0;32m/usr/local/Cellar/python/3.7.6_1/Frameworks/Python.framework/Versions/3.7/lib/python3.7/urllib/request.py\u001b[0m in \u001b[0;36murlopen\u001b[0;34m(url, data, timeout, cafile, capath, cadefault, context)\u001b[0m\n\u001b[1;32m    220\u001b[0m     \u001b[0;32melse\u001b[0m\u001b[0;34m:\u001b[0m\u001b[0;34m\u001b[0m\u001b[0;34m\u001b[0m\u001b[0m\n\u001b[1;32m    221\u001b[0m         \u001b[0mopener\u001b[0m \u001b[0;34m=\u001b[0m \u001b[0m_opener\u001b[0m\u001b[0;34m\u001b[0m\u001b[0;34m\u001b[0m\u001b[0m\n\u001b[0;32m--> 222\u001b[0;31m     \u001b[0;32mreturn\u001b[0m \u001b[0mopener\u001b[0m\u001b[0;34m.\u001b[0m\u001b[0mopen\u001b[0m\u001b[0;34m(\u001b[0m\u001b[0murl\u001b[0m\u001b[0;34m,\u001b[0m \u001b[0mdata\u001b[0m\u001b[0;34m,\u001b[0m \u001b[0mtimeout\u001b[0m\u001b[0;34m)\u001b[0m\u001b[0;34m\u001b[0m\u001b[0;34m\u001b[0m\u001b[0m\n\u001b[0m\u001b[1;32m    223\u001b[0m \u001b[0;34m\u001b[0m\u001b[0m\n\u001b[1;32m    224\u001b[0m \u001b[0;32mdef\u001b[0m \u001b[0minstall_opener\u001b[0m\u001b[0;34m(\u001b[0m\u001b[0mopener\u001b[0m\u001b[0;34m)\u001b[0m\u001b[0;34m:\u001b[0m\u001b[0;34m\u001b[0m\u001b[0;34m\u001b[0m\u001b[0m\n",
      "\u001b[0;32m/usr/local/Cellar/python/3.7.6_1/Frameworks/Python.framework/Versions/3.7/lib/python3.7/urllib/request.py\u001b[0m in \u001b[0;36mopen\u001b[0;34m(self, fullurl, data, timeout)\u001b[0m\n\u001b[1;32m    529\u001b[0m         \u001b[0;32mfor\u001b[0m \u001b[0mprocessor\u001b[0m \u001b[0;32min\u001b[0m \u001b[0mself\u001b[0m\u001b[0;34m.\u001b[0m\u001b[0mprocess_response\u001b[0m\u001b[0;34m.\u001b[0m\u001b[0mget\u001b[0m\u001b[0;34m(\u001b[0m\u001b[0mprotocol\u001b[0m\u001b[0;34m,\u001b[0m \u001b[0;34m[\u001b[0m\u001b[0;34m]\u001b[0m\u001b[0;34m)\u001b[0m\u001b[0;34m:\u001b[0m\u001b[0;34m\u001b[0m\u001b[0;34m\u001b[0m\u001b[0m\n\u001b[1;32m    530\u001b[0m             \u001b[0mmeth\u001b[0m \u001b[0;34m=\u001b[0m \u001b[0mgetattr\u001b[0m\u001b[0;34m(\u001b[0m\u001b[0mprocessor\u001b[0m\u001b[0;34m,\u001b[0m \u001b[0mmeth_name\u001b[0m\u001b[0;34m)\u001b[0m\u001b[0;34m\u001b[0m\u001b[0;34m\u001b[0m\u001b[0m\n\u001b[0;32m--> 531\u001b[0;31m             \u001b[0mresponse\u001b[0m \u001b[0;34m=\u001b[0m \u001b[0mmeth\u001b[0m\u001b[0;34m(\u001b[0m\u001b[0mreq\u001b[0m\u001b[0;34m,\u001b[0m \u001b[0mresponse\u001b[0m\u001b[0;34m)\u001b[0m\u001b[0;34m\u001b[0m\u001b[0;34m\u001b[0m\u001b[0m\n\u001b[0m\u001b[1;32m    532\u001b[0m \u001b[0;34m\u001b[0m\u001b[0m\n\u001b[1;32m    533\u001b[0m         \u001b[0;32mreturn\u001b[0m \u001b[0mresponse\u001b[0m\u001b[0;34m\u001b[0m\u001b[0;34m\u001b[0m\u001b[0m\n",
      "\u001b[0;32m/usr/local/Cellar/python/3.7.6_1/Frameworks/Python.framework/Versions/3.7/lib/python3.7/urllib/request.py\u001b[0m in \u001b[0;36mhttp_response\u001b[0;34m(self, request, response)\u001b[0m\n\u001b[1;32m    639\u001b[0m         \u001b[0;32mif\u001b[0m \u001b[0;32mnot\u001b[0m \u001b[0;34m(\u001b[0m\u001b[0;36m200\u001b[0m \u001b[0;34m<=\u001b[0m \u001b[0mcode\u001b[0m \u001b[0;34m<\u001b[0m \u001b[0;36m300\u001b[0m\u001b[0;34m)\u001b[0m\u001b[0;34m:\u001b[0m\u001b[0;34m\u001b[0m\u001b[0;34m\u001b[0m\u001b[0m\n\u001b[1;32m    640\u001b[0m             response = self.parent.error(\n\u001b[0;32m--> 641\u001b[0;31m                 'http', request, response, code, msg, hdrs)\n\u001b[0m\u001b[1;32m    642\u001b[0m \u001b[0;34m\u001b[0m\u001b[0m\n\u001b[1;32m    643\u001b[0m         \u001b[0;32mreturn\u001b[0m \u001b[0mresponse\u001b[0m\u001b[0;34m\u001b[0m\u001b[0;34m\u001b[0m\u001b[0m\n",
      "\u001b[0;32m/usr/local/Cellar/python/3.7.6_1/Frameworks/Python.framework/Versions/3.7/lib/python3.7/urllib/request.py\u001b[0m in \u001b[0;36merror\u001b[0;34m(self, proto, *args)\u001b[0m\n\u001b[1;32m    567\u001b[0m         \u001b[0;32mif\u001b[0m \u001b[0mhttp_err\u001b[0m\u001b[0;34m:\u001b[0m\u001b[0;34m\u001b[0m\u001b[0;34m\u001b[0m\u001b[0m\n\u001b[1;32m    568\u001b[0m             \u001b[0margs\u001b[0m \u001b[0;34m=\u001b[0m \u001b[0;34m(\u001b[0m\u001b[0mdict\u001b[0m\u001b[0;34m,\u001b[0m \u001b[0;34m'default'\u001b[0m\u001b[0;34m,\u001b[0m \u001b[0;34m'http_error_default'\u001b[0m\u001b[0;34m)\u001b[0m \u001b[0;34m+\u001b[0m \u001b[0morig_args\u001b[0m\u001b[0;34m\u001b[0m\u001b[0;34m\u001b[0m\u001b[0m\n\u001b[0;32m--> 569\u001b[0;31m             \u001b[0;32mreturn\u001b[0m \u001b[0mself\u001b[0m\u001b[0;34m.\u001b[0m\u001b[0m_call_chain\u001b[0m\u001b[0;34m(\u001b[0m\u001b[0;34m*\u001b[0m\u001b[0margs\u001b[0m\u001b[0;34m)\u001b[0m\u001b[0;34m\u001b[0m\u001b[0;34m\u001b[0m\u001b[0m\n\u001b[0m\u001b[1;32m    570\u001b[0m \u001b[0;34m\u001b[0m\u001b[0m\n\u001b[1;32m    571\u001b[0m \u001b[0;31m# XXX probably also want an abstract factory that knows when it makes\u001b[0m\u001b[0;34m\u001b[0m\u001b[0;34m\u001b[0m\u001b[0;34m\u001b[0m\u001b[0m\n",
      "\u001b[0;32m/usr/local/Cellar/python/3.7.6_1/Frameworks/Python.framework/Versions/3.7/lib/python3.7/urllib/request.py\u001b[0m in \u001b[0;36m_call_chain\u001b[0;34m(self, chain, kind, meth_name, *args)\u001b[0m\n\u001b[1;32m    501\u001b[0m         \u001b[0;32mfor\u001b[0m \u001b[0mhandler\u001b[0m \u001b[0;32min\u001b[0m \u001b[0mhandlers\u001b[0m\u001b[0;34m:\u001b[0m\u001b[0;34m\u001b[0m\u001b[0;34m\u001b[0m\u001b[0m\n\u001b[1;32m    502\u001b[0m             \u001b[0mfunc\u001b[0m \u001b[0;34m=\u001b[0m \u001b[0mgetattr\u001b[0m\u001b[0;34m(\u001b[0m\u001b[0mhandler\u001b[0m\u001b[0;34m,\u001b[0m \u001b[0mmeth_name\u001b[0m\u001b[0;34m)\u001b[0m\u001b[0;34m\u001b[0m\u001b[0;34m\u001b[0m\u001b[0m\n\u001b[0;32m--> 503\u001b[0;31m             \u001b[0mresult\u001b[0m \u001b[0;34m=\u001b[0m \u001b[0mfunc\u001b[0m\u001b[0;34m(\u001b[0m\u001b[0;34m*\u001b[0m\u001b[0margs\u001b[0m\u001b[0;34m)\u001b[0m\u001b[0;34m\u001b[0m\u001b[0;34m\u001b[0m\u001b[0m\n\u001b[0m\u001b[1;32m    504\u001b[0m             \u001b[0;32mif\u001b[0m \u001b[0mresult\u001b[0m \u001b[0;32mis\u001b[0m \u001b[0;32mnot\u001b[0m \u001b[0;32mNone\u001b[0m\u001b[0;34m:\u001b[0m\u001b[0;34m\u001b[0m\u001b[0;34m\u001b[0m\u001b[0m\n\u001b[1;32m    505\u001b[0m                 \u001b[0;32mreturn\u001b[0m \u001b[0mresult\u001b[0m\u001b[0;34m\u001b[0m\u001b[0;34m\u001b[0m\u001b[0m\n",
      "\u001b[0;32m/usr/local/Cellar/python/3.7.6_1/Frameworks/Python.framework/Versions/3.7/lib/python3.7/urllib/request.py\u001b[0m in \u001b[0;36mhttp_error_default\u001b[0;34m(self, req, fp, code, msg, hdrs)\u001b[0m\n\u001b[1;32m    647\u001b[0m \u001b[0;32mclass\u001b[0m \u001b[0mHTTPDefaultErrorHandler\u001b[0m\u001b[0;34m(\u001b[0m\u001b[0mBaseHandler\u001b[0m\u001b[0;34m)\u001b[0m\u001b[0;34m:\u001b[0m\u001b[0;34m\u001b[0m\u001b[0;34m\u001b[0m\u001b[0m\n\u001b[1;32m    648\u001b[0m     \u001b[0;32mdef\u001b[0m \u001b[0mhttp_error_default\u001b[0m\u001b[0;34m(\u001b[0m\u001b[0mself\u001b[0m\u001b[0;34m,\u001b[0m \u001b[0mreq\u001b[0m\u001b[0;34m,\u001b[0m \u001b[0mfp\u001b[0m\u001b[0;34m,\u001b[0m \u001b[0mcode\u001b[0m\u001b[0;34m,\u001b[0m \u001b[0mmsg\u001b[0m\u001b[0;34m,\u001b[0m \u001b[0mhdrs\u001b[0m\u001b[0;34m)\u001b[0m\u001b[0;34m:\u001b[0m\u001b[0;34m\u001b[0m\u001b[0;34m\u001b[0m\u001b[0m\n\u001b[0;32m--> 649\u001b[0;31m         \u001b[0;32mraise\u001b[0m \u001b[0mHTTPError\u001b[0m\u001b[0;34m(\u001b[0m\u001b[0mreq\u001b[0m\u001b[0;34m.\u001b[0m\u001b[0mfull_url\u001b[0m\u001b[0;34m,\u001b[0m \u001b[0mcode\u001b[0m\u001b[0;34m,\u001b[0m \u001b[0mmsg\u001b[0m\u001b[0;34m,\u001b[0m \u001b[0mhdrs\u001b[0m\u001b[0;34m,\u001b[0m \u001b[0mfp\u001b[0m\u001b[0;34m)\u001b[0m\u001b[0;34m\u001b[0m\u001b[0;34m\u001b[0m\u001b[0m\n\u001b[0m\u001b[1;32m    650\u001b[0m \u001b[0;34m\u001b[0m\u001b[0m\n\u001b[1;32m    651\u001b[0m \u001b[0;32mclass\u001b[0m \u001b[0mHTTPRedirectHandler\u001b[0m\u001b[0;34m(\u001b[0m\u001b[0mBaseHandler\u001b[0m\u001b[0;34m)\u001b[0m\u001b[0;34m:\u001b[0m\u001b[0;34m\u001b[0m\u001b[0;34m\u001b[0m\u001b[0m\n",
      "\u001b[0;31mHTTPError\u001b[0m: HTTP Error 403: Forbidden"
     ]
    }
   ],
   "source": [
    "urls = get_urls_on_page(url_)"
   ]
  },
  {
   "cell_type": "code",
   "execution_count": 6,
   "metadata": {},
   "outputs": [],
   "source": [
    "import requests\n",
    "page = requests.get(\"https://www.google.dz/search?q=see\")\n",
    "soup = BeautifulSoup(page.content)\n",
    "links = soup.findAll(\"a\")"
   ]
  },
  {
   "cell_type": "code",
   "execution_count": 7,
   "metadata": {},
   "outputs": [],
   "source": [
    "import re\n",
    "\n",
    "def get_links_from_google_search(query):\n",
    "    page = requests.get(\"https://www.google.co.uk/search?q=\"+query)\n",
    "    soup = BeautifulSoup(page.content)\n",
    "    links = soup.findAll(\"a\")\n",
    "    \n",
    "    return links"
   ]
  },
  {
   "cell_type": "code",
   "execution_count": 44,
   "metadata": {
    "collapsed": true
   },
   "outputs": [
    {
     "name": "stdout",
     "output_type": "stream",
     "text": [
      "<a href=\"/?sa=X&amp;ved=0ahUKEwj2reeK88znAhWyVBUIHfUJDooQOwgC\"><span class=\"V6gwVd\">G</span><span class=\"iWkuvd\">o</span><span class=\"cDrQ7\">o</span><span class=\"V6gwVd\">g</span><span class=\"ntlR9\">l</span><span class=\"iWkuvd tJ3Myc\">e</span></a>\n",
      "<a class=\"l\" href=\"/?output=search&amp;ie=UTF-8&amp;sa=X&amp;ved=0ahUKEwj2reeK88znAhWyVBUIHfUJDooQPAgE\"><span class=\"V6gwVd\">G</span><span class=\"iWkuvd\">o</span><span class=\"cDrQ7\">o</span><span class=\"V6gwVd\">g</span><span class=\"ntlR9\">l</span><span class=\"iWkuvd tJ3Myc\">e</span></a>\n",
      "<a href=\"/search?q=oranges&amp;ie=UTF-8&amp;gbv=1&amp;sei=QmZEXvaEFbKp1fAP9ZO40Ag\">here</a>\n",
      "<a class=\"eZt8xd\" href=\"/search?q=oranges&amp;ie=UTF-8&amp;source=lnms&amp;tbm=isch&amp;sa=X&amp;ved=0ahUKEwj2reeK88znAhWyVBUIHfUJDooQ_AUICCgB\">Images</a>\n",
      "<a class=\"eZt8xd\" href=\"/search?q=oranges&amp;ie=UTF-8&amp;source=lnms&amp;tbm=shop&amp;sa=X&amp;ved=0ahUKEwj2reeK88znAhWyVBUIHfUJDooQ_AUICSgC\">Shopping</a>\n",
      "<a class=\"eZt8xd\" href=\"/search?q=oranges&amp;ie=UTF-8&amp;source=lnms&amp;tbm=nws&amp;sa=X&amp;ved=0ahUKEwj2reeK88znAhWyVBUIHfUJDooQ_AUICigD\">News</a>\n",
      "<a href=\"https://maps.google.co.uk/maps?q=oranges&amp;um=1&amp;ie=UTF-8&amp;sa=X&amp;ved=0ahUKEwj2reeK88znAhWyVBUIHfUJDooQ_AUICygE\">Maps</a>\n",
      "<a href=\"/search?q=oranges&amp;ie=UTF-8&amp;source=lnms&amp;tbm=vid&amp;sa=X&amp;ved=0ahUKEwj2reeK88znAhWyVBUIHfUJDooQ_AUIDCgF\">Videos</a>\n",
      "<a href=\"/search?q=oranges&amp;ie=UTF-8&amp;source=lnms&amp;tbm=bks&amp;sa=X&amp;ved=0ahUKEwj2reeK88znAhWyVBUIHfUJDooQ_AUIDSgG\">Books</a>\n",
      "<a href=\"/advanced_search\" id=\"st-toggle\" role=\"button\" style=\"white-space:nowrap\">Search tools</a>\n",
      "<a href=\"/search?q=oranges&amp;ie=UTF-8&amp;source=lnt&amp;tbs=ctr:countryUK%7CcountryGB&amp;cr=countryUK%7CcountryGB&amp;sa=X&amp;ved=0ahUKEwj2reeK88znAhWyVBUIHfUJDooQpwUIDw\">Country: the UK</a>\n",
      "<a href=\"/search?q=oranges&amp;ie=UTF-8&amp;source=lnt&amp;tbs=qdr:h&amp;sa=X&amp;ved=0ahUKEwj2reeK88znAhWyVBUIHfUJDooQpwUIEQ\">Past hour</a>\n",
      "<a href=\"/search?q=oranges&amp;ie=UTF-8&amp;source=lnt&amp;tbs=qdr:d&amp;sa=X&amp;ved=0ahUKEwj2reeK88znAhWyVBUIHfUJDooQpwUIEg\">Past 24 hours</a>\n",
      "<a href=\"/search?q=oranges&amp;ie=UTF-8&amp;source=lnt&amp;tbs=qdr:w&amp;sa=X&amp;ved=0ahUKEwj2reeK88znAhWyVBUIHfUJDooQpwUIEw\">Past week</a>\n",
      "<a href=\"/search?q=oranges&amp;ie=UTF-8&amp;source=lnt&amp;tbs=qdr:m&amp;sa=X&amp;ved=0ahUKEwj2reeK88znAhWyVBUIHfUJDooQpwUIFA\">Past month</a>\n",
      "<a href=\"/search?q=oranges&amp;ie=UTF-8&amp;source=lnt&amp;tbs=qdr:y&amp;sa=X&amp;ved=0ahUKEwj2reeK88znAhWyVBUIHfUJDooQpwUIFQ\">Past year</a>\n",
      "<a href=\"/search?q=oranges&amp;ie=UTF-8&amp;source=lnt&amp;tbs=li:1&amp;sa=X&amp;ved=0ahUKEwj2reeK88znAhWyVBUIHfUJDooQpwUIFw\">Verbatim</a>\n",
      "<a href=\"/url?q=https://www.indiamart.com/proddetail/fresh-orange-fruit-14873955630.html&amp;sa=U&amp;ved=2ahUKEwj2reeK88znAhWyVBUIHfUJDooQndQBMAB6BAgVEAI&amp;usg=AOvVaw0EUDLGyF7pS-Zmx0eijD0h\"><img alt=\"\" class=\"p1vimb\" data-deferred=\"1\" id=\"dimg_15\" src=\"data:image/gif;base64,R0lGODlhAQABAIAAAP///////yH5BAEKAAEALAAAAAABAAEAAAICTAEAOw==\" style=\"max-width:72px;max-height:72px\"/></a>\n",
      "<a class=\"tHmfQe\" href=\"/search?ie=UTF-8&amp;q=Citrus+%C3%97+sinensis&amp;stick=H4sIAAAAAAAAAONgVuLWT9c3NDIsrsjIzgAAA3l8lw8AAAA&amp;sa=X&amp;ved=2ahUKEwj2reeK88znAhWyVBUIHfUJDooQ6RMwFnoECAcQAw\"><div class=\"am3QBf\"><div><span><div class=\"BNeawe deIvCb AP7Wnd\"><span class=\"rQMQod Xb5VRe\">Citrus × sinensis (Plants)</span></div></span><span><div class=\"BNeawe tAd8D AP7Wnd\">Scientific name: <span class=\"r0bn4c rQMQod\">Citrus X sinensis</span>\n",
      "Lower classifications: <span class=\"r0bn4c rQMQod\">Cara cara navel</span> and <span class=\"r0bn4c rQMQod\">Blood orange</span></div></span></div></div></a>\n",
      "<a href=\"/search?ie=UTF-8&amp;q=Citrus+%C3%97+sinensis&amp;stick=H4sIAAAAAAAAAONgVuLWT9c3NDIsrsjIzgAAA3l8lw8AAAA&amp;sa=X&amp;ved=2ahUKEwj2reeK88znAhWyVBUIHfUJDooQ6RMwFnoECAcQBg\"><img alt=\"\" class=\"ZTv9Bb nVTMpe\" data-deferred=\"1\" id=\"dimg_1\" src=\"data:image/gif;base64,R0lGODlhAQABAIAAAP///////yH5BAEKAAEALAAAAAABAAEAAAICTAEAOw==\" style=\"max-width:72px;max-height:72px\"/></a>\n",
      "<a href=\"/url?q=https://www.medicalnewstoday.com/articles/272782.php&amp;sa=U&amp;ved=2ahUKEwj2reeK88znAhWyVBUIHfUJDooQFjAXegQIChAB&amp;usg=AOvVaw3ZvpLPawRWYeBqvRQNxUIs\"><div class=\"BNeawe vvjwJb AP7Wnd\">Oranges: Health benefits, nutrition, diet, and risks</div><div class=\"BNeawe UPmit AP7Wnd\">https://www.medicalnewstoday.com › articles</div></a>\n",
      "<a href=\"/url?q=https://en.wikipedia.org/wiki/Orange_(fruit)&amp;sa=U&amp;ved=2ahUKEwj2reeK88znAhWyVBUIHfUJDooQFjAYegQICRAB&amp;usg=AOvVaw1cAgrkqdhbvMkNwU9WptCh\"><div class=\"BNeawe vvjwJb AP7Wnd\">Orange (fruit) - Wikipedia</div><div class=\"BNeawe UPmit AP7Wnd\">https://en.wikipedia.org › wiki › Orange_(fruit)</div></a>\n",
      "<a href=\"/url?q=https://en.wikipedia.org/wiki/Orange_(fruit)%23Botanical_information_and_terminology&amp;sa=U&amp;ved=2ahUKEwj2reeK88znAhWyVBUIHfUJDooQ0gIwGHoECAkQAg&amp;usg=AOvVaw1eunaiTs4e8M9hsPCFdYv3\"><span class=\"XLloXe AP7Wnd\">Botanical information and ...</span></a>\n",
      "<a href=\"/url?q=https://en.wikipedia.org/wiki/Orange_(fruit)%23Varieties&amp;sa=U&amp;ved=2ahUKEwj2reeK88znAhWyVBUIHfUJDooQ0gIwGHoECAkQAw&amp;usg=AOvVaw1wJ7l7HPdoqYqlGoc8Mg1W\"><span class=\"XLloXe AP7Wnd\">Varieties</span></a>\n",
      "<a href=\"/url?q=https://en.wikipedia.org/wiki/Orange_(fruit)%23Attributes&amp;sa=U&amp;ved=2ahUKEwj2reeK88znAhWyVBUIHfUJDooQ0gIwGHoECAkQBA&amp;usg=AOvVaw3QpDs0bXcPqCcgizy69i3A\"><span class=\"XLloXe AP7Wnd\">Attributes</span></a>\n",
      "<a href=\"/url?q=https://en.wikipedia.org/wiki/Orange_(fruit)%23Cultivation&amp;sa=U&amp;ved=2ahUKEwj2reeK88znAhWyVBUIHfUJDooQ0gIwGHoECAkQBQ&amp;usg=AOvVaw2q7vAdlpVDmRmJ7Uzd_yyK\"><span class=\"XLloXe AP7Wnd\">Cultivation</span></a>\n",
      "<a href=\"/url?q=https://www.healthline.com/nutrition/foods/oranges&amp;sa=U&amp;ved=2ahUKEwj2reeK88znAhWyVBUIHfUJDooQFjAZegQIBBAB&amp;usg=AOvVaw1voaFDhsoS8mve-Dz1OFun\"><div class=\"BNeawe vvjwJb AP7Wnd\">Oranges 101: Nutrition Facts and Health Benefits - Healthline</div><div class=\"BNeawe UPmit AP7Wnd\">https://www.healthline.com › nutrition › foods › oranges</div></a>\n",
      "<a href=\"/url?q=https://www.healthline.com/nutrition/foods/oranges%23nutrition&amp;sa=U&amp;ved=2ahUKEwj2reeK88znAhWyVBUIHfUJDooQ0gIwGXoECAQQAw&amp;usg=AOvVaw1KFupBPrsqdK_7Vz1qAZEn\"><span class=\"XLloXe AP7Wnd\">Nutrition</span></a>\n",
      "<a href=\"/url?q=https://www.healthline.com/nutrition/foods/oranges%23vitamins-and-minerals&amp;sa=U&amp;ved=2ahUKEwj2reeK88znAhWyVBUIHfUJDooQ0gIwGXoECAQQBA&amp;usg=AOvVaw2UQv4Zy0sgaSh_oBbNpJd5\"><span class=\"XLloXe AP7Wnd\">Vitamins &amp; minerals</span></a>\n",
      "<a href=\"/url?q=https://www.healthline.com/nutrition/foods/oranges%23plant-compounds&amp;sa=U&amp;ved=2ahUKEwj2reeK88znAhWyVBUIHfUJDooQ0gIwGXoECAQQBQ&amp;usg=AOvVaw3VFrSxKZNA1gVFyx6ijhHN\"><span class=\"XLloXe AP7Wnd\">Plant compounds</span></a>\n",
      "<a href=\"/url?q=https://www.healthline.com/nutrition/foods/oranges%23benefits&amp;sa=U&amp;ved=2ahUKEwj2reeK88znAhWyVBUIHfUJDooQ0gIwGXoECAQQBg&amp;usg=AOvVaw1UZhYfcFLUsT-pzPLbzXIK\"><span class=\"XLloXe AP7Wnd\">Benefits</span></a>\n",
      "<a href=\"/url?q=https://www.bbcgoodfood.com/howto/guide/health-benefits-oranges&amp;sa=U&amp;ved=2ahUKEwj2reeK88znAhWyVBUIHfUJDooQFjAaegQIBRAB&amp;usg=AOvVaw3JIwtBC55vYiRbZQirc9Wj\"><div class=\"BNeawe vvjwJb AP7Wnd\">The health benefits of oranges | BBC Good Food</div><div class=\"BNeawe UPmit AP7Wnd\">https://www.bbcgoodfood.com › howto › guide › health-benefits-oranges</div></a>\n",
      "<a href=\"/url?q=http://www.whfoods.com/genpage.php%3Ftname%3Dfoodspice%26dbid%3D37&amp;sa=U&amp;ved=2ahUKEwj2reeK88znAhWyVBUIHfUJDooQFjAbegQIBhAB&amp;usg=AOvVaw0hUqBsC4p9VsJ_b4MZ9DM4\"><div class=\"BNeawe vvjwJb AP7Wnd\">Oranges - The World's Healthiest Foods</div><div class=\"BNeawe UPmit AP7Wnd\">www.whfoods.com › genpage</div></a>\n",
      "<a href=\"/url?q=https://timesofindia.indiatimes.com/life-style/health-fitness/diet/why-you-should-eat-oranges/articleshow/4662391.cms&amp;sa=U&amp;ved=2ahUKEwj2reeK88znAhWyVBUIHfUJDooQFjAcegQIDBAB&amp;usg=AOvVaw2s-AaGb0j-J1Rxwu0RqbCe\"><div class=\"BNeawe vvjwJb AP7Wnd\">10 Health Benefits of Eating Oranges - Times of India</div><div class=\"BNeawe UPmit AP7Wnd\">https://timesofindia.indiatimes.com › ... › Health &amp; Fitness Tips › Diet Tips</div></a>\n",
      "<a href=\"/url?q=https://www.livescience.com/45057-oranges-nutrition-facts.html&amp;sa=U&amp;ved=2ahUKEwj2reeK88znAhWyVBUIHfUJDooQFjAdegQIAhAB&amp;usg=AOvVaw1Wre8k13TYqu3Bl9o1dxJf\"><div class=\"BNeawe vvjwJb AP7Wnd\">Oranges: Health Benefits, Risks &amp; Nutrition Facts | Live Science</div><div class=\"BNeawe UPmit AP7Wnd\">https://www.livescience.com › 45057-oranges-nutrition-facts</div></a>\n",
      "<a href=\"/url?q=https://www.britannica.com/plant/orange-fruit&amp;sa=U&amp;ved=2ahUKEwj2reeK88znAhWyVBUIHfUJDooQFjAeegQIARAB&amp;usg=AOvVaw3Jd5_EzZmk6qlN9ATGQrpx\"><div class=\"BNeawe vvjwJb AP7Wnd\">Orange | fruit | Britannica</div><div class=\"BNeawe UPmit AP7Wnd\">https://www.britannica.com › plant › orange-fruit</div></a>\n",
      "<a href=\"/url?q=https://www.webmd.com/food-recipes/health-benefits-oranges&amp;sa=U&amp;ved=2ahUKEwj2reeK88znAhWyVBUIHfUJDooQFjAfegQICxAB&amp;usg=AOvVaw0ZcCEftW6LjzS38aTj818V\"><div class=\"BNeawe vvjwJb AP7Wnd\">Oranges: Nutrition &amp; Health Benefits - WebMD</div><div class=\"BNeawe UPmit AP7Wnd\">https://www.webmd.com › Food &amp; Recipes › Reference</div></a>\n",
      "<a href=\"/url?q=https://www.amazon.co.uk/Fresh-Oranges/b%3Fie%3DUTF8%26node%3D6860115031&amp;sa=U&amp;ved=2ahUKEwj2reeK88znAhWyVBUIHfUJDooQFjAgegQIAxAB&amp;usg=AOvVaw26ZCCbXtQdEkq8QX7YOat0\"><div class=\"BNeawe vvjwJb AP7Wnd\">Grocery: Oranges - Amazon.co.uk</div><div class=\"BNeawe UPmit AP7Wnd\">https://www.amazon.co.uk › Fresh-Oranges</div></a>\n",
      "<a class=\"tHmfQe\" href=\"/search?ie=UTF-8&amp;q=benefits+of+eating+oranges+everyday&amp;sa=X&amp;ved=2ahUKEwj2reeK88znAhWyVBUIHfUJDooQ1QJ6BAgAEAE\"><div class=\"am3QBf\"><div><span><div class=\"BNeawe deIvCb AP7Wnd\">benefits of eating oranges everyday</div></span></div></div></a>\n",
      "<a href=\"/search?ie=UTF-8&amp;q=benefits+of+eating+oranges+everyday\"><div class=\"BNeawe mAdjQc uEec3 AP7Wnd\">&gt;</div></a>\n",
      "<a class=\"tHmfQe\" href=\"/search?ie=UTF-8&amp;q=facts+about+oranges&amp;sa=X&amp;ved=2ahUKEwj2reeK88znAhWyVBUIHfUJDooQ1QJ6BAgAEAI\"><div class=\"am3QBf\"><div><span><div class=\"BNeawe deIvCb AP7Wnd\">facts about oranges</div></span></div></div></a>\n",
      "<a href=\"/search?ie=UTF-8&amp;q=facts+about+oranges\"><div class=\"BNeawe mAdjQc uEec3 AP7Wnd\">&gt;</div></a>\n",
      "<a class=\"tHmfQe\" href=\"/search?ie=UTF-8&amp;q=are+oranges+bad+for+you&amp;sa=X&amp;ved=2ahUKEwj2reeK88znAhWyVBUIHfUJDooQ1QJ6BAgAEAM\"><div class=\"am3QBf\"><div><span><div class=\"BNeawe deIvCb AP7Wnd\">are oranges bad for you</div></span></div></div></a>\n",
      "<a href=\"/search?ie=UTF-8&amp;q=are+oranges+bad+for+you\"><div class=\"BNeawe mAdjQc uEec3 AP7Wnd\">&gt;</div></a>\n",
      "<a class=\"tHmfQe\" href=\"/search?ie=UTF-8&amp;q=types+of+oranges&amp;sa=X&amp;ved=2ahUKEwj2reeK88znAhWyVBUIHfUJDooQ1QJ6BAgAEAQ\"><div class=\"am3QBf\"><div><span><div class=\"BNeawe deIvCb AP7Wnd\">types of oranges</div></span></div></div></a>\n",
      "<a href=\"/search?ie=UTF-8&amp;q=types+of+oranges\"><div class=\"BNeawe mAdjQc uEec3 AP7Wnd\">&gt;</div></a>\n",
      "<a class=\"tHmfQe\" href=\"/search?ie=UTF-8&amp;q=benefits+of+oranges+for+weight+loss&amp;sa=X&amp;ved=2ahUKEwj2reeK88znAhWyVBUIHfUJDooQ1QJ6BAgAEAU\"><div class=\"am3QBf\"><div><span><div class=\"BNeawe deIvCb AP7Wnd\">benefits of oranges for weight loss</div></span></div></div></a>\n",
      "<a href=\"/search?ie=UTF-8&amp;q=benefits+of+oranges+for+weight+loss\"><div class=\"BNeawe mAdjQc uEec3 AP7Wnd\">&gt;</div></a>\n",
      "<a class=\"tHmfQe\" href=\"/search?ie=UTF-8&amp;q=oranges+benefits&amp;sa=X&amp;ved=2ahUKEwj2reeK88znAhWyVBUIHfUJDooQ1QJ6BAgAEAY\"><div class=\"am3QBf\"><div><span><div class=\"BNeawe deIvCb AP7Wnd\">oranges benefits</div></span></div></div></a>\n",
      "<a href=\"/search?ie=UTF-8&amp;q=oranges+benefits\"><div class=\"BNeawe mAdjQc uEec3 AP7Wnd\">&gt;</div></a>\n",
      "<a class=\"tHmfQe\" href=\"/search?ie=UTF-8&amp;q=orange+fruits&amp;sa=X&amp;ved=2ahUKEwj2reeK88znAhWyVBUIHfUJDooQ1QJ6BAgAEAc\"><div class=\"am3QBf\"><div><span><div class=\"BNeawe deIvCb AP7Wnd\">orange fruits</div></span></div></div></a>\n",
      "<a href=\"/search?ie=UTF-8&amp;q=orange+fruits\"><div class=\"BNeawe mAdjQc uEec3 AP7Wnd\">&gt;</div></a>\n",
      "<a class=\"tHmfQe\" href=\"/search?ie=UTF-8&amp;q=flavonoids+in+oranges&amp;sa=X&amp;ved=2ahUKEwj2reeK88znAhWyVBUIHfUJDooQ1QJ6BAgAEAg\"><div class=\"am3QBf\"><div><span><div class=\"BNeawe deIvCb AP7Wnd\">flavonoids in oranges</div></span></div></div></a>\n",
      "<a href=\"/search?ie=UTF-8&amp;q=flavonoids+in+oranges\"><div class=\"BNeawe mAdjQc uEec3 AP7Wnd\">&gt;</div></a>\n",
      "<a aria-label=\"Next page\" class=\"nBDE1b G5eFlf\" href=\"/search?q=oranges&amp;ie=UTF-8&amp;ei=QmZEXvaEFbKp1fAP9ZO40Ag&amp;start=10&amp;sa=N\">Next &gt;</a>\n",
      "<a href=\"/url?q=https://accounts.google.com/ServiceLogin%3Fcontinue%3Dhttps://www.google.co.uk/search%253Fq%253Doranges%26hl%3Den&amp;sa=U&amp;ved=0ahUKEwj2reeK88znAhWyVBUIHfUJDooQxs8CCG8&amp;usg=AOvVaw1N29c_Ibnj4kgOx4KLMho0\">Sign in</a>\n",
      "<a class=\"ksTU4c\" href=\"https://www.google.co.uk/preferences?hl=en-GB&amp;fg=1&amp;sa=X&amp;ved=0ahUKEwj2reeK88znAhWyVBUIHfUJDooQ5fUCCHA\">Settings</a>\n",
      "<a class=\"ksTU4c\" href=\"//policies.google.com/privacy?fg=1\">Privacy</a>\n",
      "<a class=\"ksTU4c\" href=\"//policies.google.com/terms?fg=1\">Terms</a>\n"
     ]
    }
   ],
   "source": [
    "links = get_links_from_google_search(\"oranges\")\n",
    "for link in links:\n",
    "    print(link)"
   ]
  },
  {
   "cell_type": "code",
   "execution_count": 98,
   "metadata": {},
   "outputs": [
    {
     "name": "stdout",
     "output_type": "stream",
     "text": [
      "['https://www.imdb.com/title/tt7949218/&sa=U&ved=2ahUKEwjIpr7O1M_nAhUjURUIHVRXBWwQoiQwCHoECBQQEA&usg=AOvVaw2wg5-hNoURBbyzx9wmVHbO', 'https://www.rottentomatoes.com/tv/see&sa=U&ved=2ahUKEwjIpr7O1M_nAhUjURUIHVRXBWwQoiQwCHoECBQQEg&usg=AOvVaw1jtDsCPSecC6LTViipXgIW', 'https://www.youtube.com/watch%3Fv%3D7Rg0y7NT1gU&sa=U&ved=2ahUKEwjIpr7O1M_nAhUjURUIHVRXBWwQtwIwEnoECAoQAQ&usg=AOvVaw0w6npiNI1XLxACC5oGFWM3', 'https://www.youtube.com/watch%3Fv%3D7Rg0y7NT1gU&sa=U&ved=2ahUKEwjIpr7O1M_nAhUjURUIHVRXBWwQuAIwEnoECAoQAg&usg=AOvVaw1s3Xt-kFJSPsLZrgXrrdnL', 'https://www.imdb.com/title/tt7949218/&sa=U&ved=2ahUKEwjIpr7O1M_nAhUjURUIHVRXBWwQFjATegQICRAB&usg=AOvVaw1lEmSKYvp9iL166WQcuHIQ', 'https://www.imdb.com/title/tt7949218/episodes&sa=U&ved=2ahUKEwjIpr7O1M_nAhUjURUIHVRXBWwQ0gIwE3oECAkQAw&usg=AOvVaw391Uc0NdGeM732sGsQWc_q', 'https://www.imdb.com/title/tt7949218/mediaviewer/rm3725550336&sa=U&ved=2ahUKEwjIpr7O1M_nAhUjURUIHVRXBWwQ0gIwE3oECAkQBA&usg=AOvVaw06kA3hHz9GPRDpi8w5pMqt', 'https://www.imdb.com/title/tt7949218/fullcredits&sa=U&ved=2ahUKEwjIpr7O1M_nAhUjURUIHVRXBWwQ0gIwE3oECAkQBQ&usg=AOvVaw0yFmhN0gIM4EPSMiyzUBaV', 'https://www.imdb.com/title/tt7949218/locations&sa=U&ved=2ahUKEwjIpr7O1M_nAhUjURUIHVRXBWwQ0gIwE3oECAkQBg&usg=AOvVaw2DugRC0fliwidRbdlyFx2O', 'https://en.wikipedia.org/wiki/See_(TV_series)&sa=U&ved=2ahUKEwjIpr7O1M_nAhUjURUIHVRXBWwQFjAUegQIBBAB&usg=AOvVaw3dUOSNJYntRlmqVGcCRPgf', 'https://en.wikipedia.org/wiki/See_(TV_series)%23Premise&sa=U&ved=2ahUKEwjIpr7O1M_nAhUjURUIHVRXBWwQ0gIwFHoECAQQAg&usg=AOvVaw0asdddKLYeyObsNc_Zehf8', 'https://en.wikipedia.org/wiki/See_(TV_series)%23Cast_and_characters&sa=U&ved=2ahUKEwjIpr7O1M_nAhUjURUIHVRXBWwQ0gIwFHoECAQQAw&usg=AOvVaw2MTUlx3aXDWYoqs2wO-GRX', 'https://en.wikipedia.org/wiki/See_(TV_series)%23Episodes&sa=U&ved=2ahUKEwjIpr7O1M_nAhUjURUIHVRXBWwQ0gIwFHoECAQQBA&usg=AOvVaw2ApN6lBzHmEIt9KrtC7KuT', 'https://en.wikipedia.org/wiki/See_(TV_series)%23Production&sa=U&ved=2ahUKEwjIpr7O1M_nAhUjURUIHVRXBWwQ0gIwFHoECAQQBQ&usg=AOvVaw0bgPymvelf3mBTV5f0RCF4', 'https://en.wikipedia.org/wiki/Apple_TV%252B&sa=U&ved=2ahUKEwjIpr7O1M_nAhUjURUIHVRXBWwQs2YwFHoECAQQCg&usg=AOvVaw0Wa5PQrGOcgUg0j7DYkUcn', 'https://en.wikipedia.org/wiki/Steven_Knight&sa=U&ved=2ahUKEwjIpr7O1M_nAhUjURUIHVRXBWwQs2YwFHoECAQQDA&usg=AOvVaw1KZzrIfRiJbBIYgiU99Lhj', 'https://en.wikipedia.org/wiki/Peter_Chernin&sa=U&ved=2ahUKEwjIpr7O1M_nAhUjURUIHVRXBWwQs2YwFHoECAQQDQ&usg=AOvVaw2mrVJuGLIBagkJSW-bWx_M', 'https://en.wikipedia.org/wiki/Jenno_Topping&sa=U&ved=2ahUKEwjIpr7O1M_nAhUjURUIHVRXBWwQs2YwFHoECAQQDg&usg=AOvVaw16KUzD7Cz-zW2C4gWHQMAy', 'https://www.rottentomatoes.com/tv/see/s01&sa=U&ved=2ahUKEwjIpr7O1M_nAhUjURUIHVRXBWwQFjAVegQIBRAB&usg=AOvVaw0ypdgV7F78yB0HUqHrsbXW', 'https://www.theverge.com/2019/11/1/20942180/see-apple-tv-plus-review-streaming-jason-mamoa&sa=U&ved=2ahUKEwjIpr7O1M_nAhUjURUIHVRXBWwQFjAWegQICBAB&usg=AOvVaw1aelnwueajYUlDpzL1gHlk', 'https://tv.apple.com/us/show/see/umc.cmc.3s4mgg2y7h95fks9gnc4pw13m&sa=U&ved=2ahUKEwjIpr7O1M_nAhUjURUIHVRXBWwQFjAXegQIBhAB&usg=AOvVaw1jszfUUSNbBcCihUa0J3j9', 'https://www.seetickets.com/&sa=U&ved=2ahUKEwjIpr7O1M_nAhUjURUIHVRXBWwQFjAYegQIARAB&usg=AOvVaw2Vyj0f8xlmQn9B8rNtzVlT', 'https://www.macworld.co.uk/news/apple/see-season-2-release-date-3781141/&sa=U&ved=2ahUKEwjIpr7O1M_nAhUjURUIHVRXBWwQFjAZegQIBxAB&usg=AOvVaw3fppfw4tDcLU7bZP8RXlO3', 'https://www.radiotimes.com/news/on-demand/2019-10-30/apple-tv-drama-see-second-series-confirmed/&sa=U&ved=2ahUKEwjIpr7O1M_nAhUjURUIHVRXBWwQFjAaegQIAhAB&usg=AOvVaw0rZSesUV4VYp5QaPC-QlNu', 'https://metro.co.uk/2019/11/15/watch-see-apple-tv-next-episode-11164359/&sa=U&ved=2ahUKEwjIpr7O1M_nAhUjURUIHVRXBWwQFjAbegQIAxAB&usg=AOvVaw2X7IFVDuKs2XCh4KOGo4fq', 'https://accounts.google.com/ServiceLogin%3Fcontinue%3Dhttps://www.google.dz/search%253Fq%253Dsee%26hl%3Den&sa=U&ved=0ahUKEwjIpr7O1M_nAhUjURUIHVRXBWwQxs8CCLgB&usg=AOvVaw0R5dLZktl2u_BArqtdbcBs']\n"
     ]
    }
   ],
   "source": [
    "# from https://stackoverflow.com/questions/25471450/python-getting-all-links-from-a-google-search-result-page\n",
    "\n",
    "\"\"\"\n",
    "NOTES:\n",
    "\n",
    "?<=    Positive Lookbehind:\n",
    "(?<=/url\\?q=)(htt.*://.*)   This search for '/url?q=' BEHIND (http:// | https:// | any variant thereof) \n",
    "\n",
    "\n",
    "link[\"href\"] returns the 'href' element in the link object\n",
    "\n",
    "\n",
    "re.compile()  Compile a regular expression pattern into a regular expression object, which can be used for matching using its match() and search() methods, described below.\n",
    "\n",
    "The sequence\n",
    "\n",
    "    prog = re.compile(pattern)\n",
    "    result = prog.match(string)\n",
    "\n",
    "is equivalent to\n",
    "\n",
    "    result = re.match(pattern, string)\n",
    "    \n",
    "    \n",
    "Find all \"a\" tags where the contents of the \"href\" element contain the pattern in re.compile():\n",
    "\n",
    "    find_all(\"a\",href=re.compile(\"(?<=/url\\?q=)(htt.*://.*)\"))\n",
    "    \n",
    "Look AHEAD assertion:\n",
    "\n",
    "    :(?=http)     a colon FOLLOWED BY 'http'\n",
    "\n",
    "\n",
    "\"\"\"\n",
    "page = requests.get(\"https://www.google.dz/search?q=see\")\n",
    "soup = BeautifulSoup(page.content)\n",
    "#links = soup.findAll(\"a\")\n",
    "links = []\n",
    "for link in  soup.find_all(\"a\",href=re.compile(\"(?<=/url\\?q=)(htt.*://.*)\")):\n",
    "    # print(re.split(\":(?=www)\", link[\"href\"].replace(\"/url?q=\",\"\")))\n",
    "    # print(link[\"href\"].replace(\"/url?q=\",\"\"))\n",
    "    \n",
    "    #links.append(re.split(\":(?=https?)\", link[\"href\"].replace(\"/url?q=\",\"\"))[0])\n",
    "    links.append(link[\"href\"].replace(\"/url?q=\",\"\"))\n",
    "    \n",
    "    #print(re.split(\":(?=http)\",link[\"href\"].replace(\"/url?q=\",\"\")))\n",
    "    \n",
    "#print(soup.find_all(\"a\",href=re.compile(\"(?<=/url\\?q=)(htt.*://.*)\")))\n",
    "print(links)"
   ]
  },
  {
   "cell_type": "code",
   "execution_count": 186,
   "metadata": {},
   "outputs": [],
   "source": [
    "import regex\n",
    "\n",
    "def find_site_from_url(links):\n",
    "    for link in links:\n",
    "        # (\\/{2}\\w+)|(w{3}\\w+)    --Find prefix to main URL big\n",
    "        # print(re.search('((\\/{2}\\w+)|(w{3}\\w+))\\.', link))\n",
    "        l = regex.search('(?<=((\\/{2}\\.)|(w{3}\\.)|(\\w+)\\.))\\w+' , link)\n",
    "        #l = re.search('((\\/{2})|(w{3}\\.))\\w+' , link)\n",
    "        print(l.group(0))"
   ]
  },
  {
   "cell_type": "code",
   "execution_count": 187,
   "metadata": {},
   "outputs": [
    {
     "name": "stdout",
     "output_type": "stream",
     "text": [
      "imdb\n",
      "rottentomatoes\n",
      "youtube\n",
      "youtube\n",
      "imdb\n",
      "imdb\n",
      "imdb\n",
      "imdb\n",
      "imdb\n",
      "wikipedia\n",
      "wikipedia\n",
      "wikipedia\n",
      "wikipedia\n",
      "wikipedia\n",
      "wikipedia\n",
      "wikipedia\n",
      "wikipedia\n",
      "wikipedia\n",
      "rottentomatoes\n",
      "theverge\n",
      "apple\n",
      "seetickets\n",
      "macworld\n",
      "radiotimes\n",
      "co\n",
      "google\n"
     ]
    }
   ],
   "source": [
    "find_site_from_url(links)"
   ]
  },
  {
   "cell_type": "code",
   "execution_count": null,
   "metadata": {},
   "outputs": [],
   "source": []
  }
 ],
 "metadata": {
  "kernelspec": {
   "display_name": "Python 3",
   "language": "python",
   "name": "python3"
  },
  "language_info": {
   "codemirror_mode": {
    "name": "ipython",
    "version": 3
   },
   "file_extension": ".py",
   "mimetype": "text/x-python",
   "name": "python",
   "nbconvert_exporter": "python",
   "pygments_lexer": "ipython3",
   "version": "3.7.6"
  }
 },
 "nbformat": 4,
 "nbformat_minor": 2
}
