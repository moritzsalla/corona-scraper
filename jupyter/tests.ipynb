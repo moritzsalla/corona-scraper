{
 "cells": [
  {
   "cell_type": "code",
   "execution_count": 11,
   "metadata": {},
   "outputs": [],
   "source": [
    "from gensim.summarization import summarize\n",
    "import numpy as np\n",
    "import bs4\n",
    "import requests\n",
    "from bs4 import BeautifulSoup\n",
    "import urllib.request\n",
    "\n",
    "\n",
    "def get_link_response(url:str) -> requests.Response:\n",
    "    \"\"\"\n",
    "    get_link_response gets a URL and scrapes it, returning the object.\n",
    "    \"\"\"\n",
    "    return requests.get(url)\n",
    "\n",
    "\n",
    "def choose_next_link(next_link_candidates: list) ->list:\n",
    "    \"\"\"\n",
    "    choose_next_link\n",
    "\n",
    "    Given a list of URLs strings from the website scraped, it chooses which link to go to next.\n",
    "    \"\"\"\n",
    "    url_keywords = [\"breitbart\", \"foxnews\", \"thehill\", \"dailymail\", \"wallstreet\", \"drudgereport\", \"hannity\", \"trump\"]\n",
    "    next_links = []\n",
    "    for link in urls:\n",
    "        for rightist_link in url_keywords:\n",
    "            if rightist_link in link:\n",
    "                next_links.append(link)\n",
    "\n",
    "    return next_links"
   ]
  },
  {
   "cell_type": "code",
   "execution_count": 7,
   "metadata": {},
   "outputs": [
    {
     "data": {
      "text/plain": [
       "<Response [200]>"
      ]
     },
     "execution_count": 7,
     "metadata": {},
     "output_type": "execute_result"
    }
   ],
   "source": [
    "get_link_response(\"https://news.ycombinator.com\")\n",
    "\n",
    "# 200 means Success"
   ]
  },
  {
   "cell_type": "code",
   "execution_count": 20,
   "metadata": {},
   "outputs": [],
   "source": [
    "def get_urls_on_page(url: str) -> list:\n",
    "    \"\"\"\n",
    "    get_urls_on_page\n",
    "    \n",
    "    Given a URL, returns a list of valid URLs (starting with http) on that page\n",
    "    \"\"\"\n",
    "    html = urllib.request.urlopen(url).read()\n",
    "    soup = BeautifulSoup(html)\n",
    "    links = []\n",
    "    for link in soup.find_all('a'):\n",
    "        links.append(link.get('href'))\n",
    "    return links"
   ]
  },
  {
   "cell_type": "code",
   "execution_count": 24,
   "metadata": {},
   "outputs": [
    {
     "data": {
      "text/plain": [
       "['https://news.ycombinator.com',\n",
       " 'https://discussions.apple.com/thread/250878229',\n",
       " 'https://insinuator.net/2020/02/critical-bluetooth-vulnerability-in-android-cve-2020-0022/',\n",
       " 'https://danluu.com/p95-skill/',\n",
       " 'https://a16z.com/2020/02/06/100-true-fans/',\n",
       " 'https://flif.info/',\n",
       " 'https://beachgrit.com/2020/02/the-surf-industry-paradox-surfing-by-its-very-nature-inherently-contradicts-basic-capitalism/',\n",
       " 'https://mattstauffer.com/blog/setting-up-your-webcam-lights-and-audio-for-remote-work-podcasting-videos-and-streaming/',\n",
       " 'https://lwn.net/Articles/810414/',\n",
       " 'http://www.lofibucket.com/articles/tv_backlight_compensation.html',\n",
       " 'https://www.thispersondoesnotexist.com/',\n",
       " 'https://librelingo.app/',\n",
       " 'http://alugy.com/usa/latest-eu-data-shows-that-in-the-netherlands-14-of-employees-work-from-home-in-usa-only-2-8/',\n",
       " 'https://www.bloomberg.com/opinion/articles/2020-02-05/why-google-might-prefer-dropping-a-22-billion-business',\n",
       " 'https://blog.angular.io/version-9-of-angular-now-available-project-ivy-has-arrived-23c97b63cfa3',\n",
       " 'https://mappingignorance.org/2020/01/22/the-limits-of-high-speed-rail/',\n",
       " 'https://m.youtube.com/watch?v=KM6X2MEl7R8',\n",
       " 'https://iconia.com/before_the_dns.txt',\n",
       " 'https://theintercept.com/2020/01/29/chevron-ecuador-lawsuit-steven-donziger/',\n",
       " 'https://www.openmymind.net/Migrating-To-CockroachDB/',\n",
       " 'https://lchsk.com/stay-paranoid-and-trust-no-one-overview-of-common-security-vulnerabilities-in-web-applications.html',\n",
       " 'https://dawn.googlesource.com/dawn',\n",
       " 'https://www.atlasobscura.com/articles/micronation-stamps',\n",
       " 'https://plato.stanford.edu/entries/architecture/',\n",
       " 'https://jalopnik.com/tesla-remotely-removes-autopilot-features-from-customer-1841472617',\n",
       " 'https://www.armis.com/cdpwn/',\n",
       " 'http://blog.interviewing.io/no-engineer-has-ever-sued-a-company-because-of-constructive-post-interview-feedback-so-why-dont-employers-do-it/',\n",
       " 'http://charlespetzold.com/etc/DoesVisualStudioRotTheMind.html',\n",
       " 'https://www.espn.com/nba/story/_/id/28633740/how-andre-iguodala-handled-rare-nba-sabbatical',\n",
       " 'https://embeddedbits.org/reverse-engineering-router-firmware-with-binwalk/',\n",
       " 'https://www.ycombinator.com/apply/',\n",
       " 'https://github.com/HackerNews/API',\n",
       " 'http://www.ycombinator.com/legal/',\n",
       " 'http://www.ycombinator.com/apply/']"
      ]
     },
     "execution_count": 24,
     "metadata": {},
     "output_type": "execute_result"
    }
   ],
   "source": [
    "get_urls_on_page(\"https://news.ycombinator.com\")"
   ]
  },
  {
   "cell_type": "code",
   "execution_count": null,
   "metadata": {},
   "outputs": [],
   "source": [
    "def find_occurrences_of(url: str, word: str) -> dict:\n",
    "    \"\"\"\n",
    "    Finds occurences of given word on page.. returns something\n",
    "    \"\"\"\n",
    "    ret = dict()"
   ]
  }
 ],
 "metadata": {
  "kernelspec": {
   "display_name": "Python 3",
   "language": "python",
   "name": "python3"
  },
  "language_info": {
   "codemirror_mode": {
    "name": "ipython",
    "version": 3
   },
   "file_extension": ".py",
   "mimetype": "text/x-python",
   "name": "python",
   "nbconvert_exporter": "python",
   "pygments_lexer": "ipython3",
   "version": "3.7.6"
  }
 },
 "nbformat": 4,
 "nbformat_minor": 2
}
