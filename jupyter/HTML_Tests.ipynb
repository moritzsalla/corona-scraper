{
 "cells": [
  {
   "cell_type": "code",
   "execution_count": 19,
   "metadata": {},
   "outputs": [],
   "source": [
    "import requests\n",
    "import urllib.request\n",
    "import ssl\n",
    "\n",
    "ssl._create_default_https_context=ssl._create_unverified_context\n",
    "\n",
    "\n",
    "wikipedia = \"https://en.wikipedia.org/wiki/Corona\"\n",
    "thesun = \"https://www.thesun.co.uk/news/10840902/girlfriend-corona-coronavirus/\""
   ]
  },
  {
   "cell_type": "code",
   "execution_count": 38,
   "metadata": {},
   "outputs": [],
   "source": [
    "html = urllib.request.urlopen(wikipedia).getcode()#.read()"
   ]
  },
  {
   "cell_type": "code",
   "execution_count": 46,
   "metadata": {},
   "outputs": [
    {
     "ename": "TypeError",
     "evalue": "'>' not supported between instances of 'Response' and 'int'",
     "output_type": "error",
     "traceback": [
      "\u001b[0;31m---------------------------------------------------------------------------\u001b[0m",
      "\u001b[0;31mTypeError\u001b[0m                                 Traceback (most recent call last)",
      "\u001b[0;32m<ipython-input-46-cfe016869480>\u001b[0m in \u001b[0;36m<module>\u001b[0;34m\u001b[0m\n\u001b[0;32m----> 1\u001b[0;31m \u001b[0mhtml\u001b[0m \u001b[0;34m>\u001b[0m \u001b[0;36m199\u001b[0m \u001b[0;32mand\u001b[0m \u001b[0mhtml\u001b[0m \u001b[0;34m<\u001b[0m \u001b[0;36m300\u001b[0m\u001b[0;34m\u001b[0m\u001b[0;34m\u001b[0m\u001b[0m\n\u001b[0m",
      "\u001b[0;31mTypeError\u001b[0m: '>' not supported between instances of 'Response' and 'int'"
     ]
    }
   ],
   "source": [
    "html > 199 and html < 300"
   ]
  },
  {
   "cell_type": "code",
   "execution_count": 42,
   "metadata": {},
   "outputs": [],
   "source": [
    "html = requests.get(wikipedia)"
   ]
  },
  {
   "cell_type": "code",
   "execution_count": 45,
   "metadata": {},
   "outputs": [
    {
     "data": {
      "text/plain": [
       "200"
      ]
     },
     "execution_count": 45,
     "metadata": {},
     "output_type": "execute_result"
    }
   ],
   "source": [
    "html.status_code"
   ]
  },
  {
   "cell_type": "code",
   "execution_count": 29,
   "metadata": {},
   "outputs": [],
   "source": [
    "longurl = \"https://www.dailymail.co.uk/health/article-7943549/Google-searches-Corona-beer-virus-spike-people-thinking-linked-deadly-coronavirus.html&sa=U&ved=2ahUKEwjf_8T71OfnAhXOgVwKHVNtDtUQ0PADMBV6BAgCEBo&usg=AOvVaw1g8izOfVdrgmZxh6UfAmTb\""
   ]
  },
  {
   "cell_type": "code",
   "execution_count": 30,
   "metadata": {},
   "outputs": [],
   "source": [
    "shorter = longurl.split(\"&sa\")"
   ]
  },
  {
   "cell_type": "code",
   "execution_count": 32,
   "metadata": {},
   "outputs": [
    {
     "data": {
      "text/plain": [
       "'https://www.dailymail.co.uk/health/article-7943549/Google-searches-Corona-beer-virus-spike-people-thinking-linked-deadly-coronavirus.html'"
      ]
     },
     "execution_count": 32,
     "metadata": {},
     "output_type": "execute_result"
    }
   ],
   "source": [
    "shorter[0]"
   ]
  },
  {
   "cell_type": "code",
   "execution_count": 34,
   "metadata": {},
   "outputs": [
    {
     "name": "stdout",
     "output_type": "stream",
     "text": [
      "Type somethingy\n",
      "y\n"
     ]
    }
   ],
   "source": [
    "userinput = input(\"Type something\")\n",
    "print(userinput)"
   ]
  },
  {
   "cell_type": "code",
   "execution_count": 47,
   "metadata": {},
   "outputs": [],
   "source": [
    "html = requests.get(\"https://corona-renderer.com/\")"
   ]
  },
  {
   "cell_type": "code",
   "execution_count": 48,
   "metadata": {},
   "outputs": [
    {
     "data": {
      "text/plain": [
       "200"
      ]
     },
     "execution_count": 48,
     "metadata": {},
     "output_type": "execute_result"
    }
   ],
   "source": [
    "html.status_code"
   ]
  },
  {
   "cell_type": "code",
   "execution_count": 49,
   "metadata": {},
   "outputs": [
    {
     "data": {
      "text/plain": [
       "'<!DOCTYPE html>\\n<html lang=\"en\" class=\"no-js\">\\n<head>\\n    <meta charset=\"utf-8\">\\n    <meta http-equiv=\"X-UA-Compatible\" content=\"IE=edge,chrome=1\">\\n    <meta name=\"format-detection\" content=\"telephone=no\">\\n    <meta name=\"description\" content=\"Corona Renderer home page, the modern advanced high performance renderer for 3ds&amp;nbsp;Max, Cinema&amp;nbsp;4D and more.\">\\n\\n            <link rel=\"canonical\" href=\"https://corona-renderer.com\">\\n\\n\\n\\n\\n\\n    <script>\\ndocument.documentElement.className=document.documentElement.className.replace(\"no-js\",\"js\"),app={l:{core:!1,maps:!1}},dataLayer=[];            app.cssAsyncLoad = \\'https://cdn.corona-renderer.com/iconfont/iconfont-f8211fedc3.css\\';\\nWebFontConfig={google:{families:[\"Open+Sans:400,700,400i:latin,latin-ext\"]},active:function(){var e=new Date;e.setTime(e.getTime()+108e5),document.cookie=\"loaded=1; expires=\"+e.toString()+\"; path=/\"}},function(e,t){var n,i,o,a,s,l;n=app.cssAsyncLoad,a=e.document.createElement(\"link\"),s=i||e.document.getElementsByTagName(\"script\")[0],l=e.document.styleSheets,a.rel=\"stylesheet\",a.href=n,a.media=\"only x\",s.parentNode.insertBefore(a,s),function e(){for(var t,i=0;i<l.length;i++)l[i].href&&l[i].href.indexOf(n)>-1&&(t=!0);t?a.media=o||\"all\":setTimeout(e)}()}(this);    </script>\\n\\n        <meta property=\"og:image\" content=\"https://corona-renderer.comhttps://cdn.corona-renderer.com/img/og-share-9605dbcc49.jpg\">\\n\\n    <link href=\"https://cdn.corona-renderer.com/css/renderer-91554c3015.css\" rel=\"stylesheet\">\\n\\n        <script src=\"https://ajax.googleapis.com/ajax/libs/webfont/1.6.26/webfont.js\" async defer></script>\\n        <link href=\"https://fonts.googleapis.com/css?family=Open+Sans:400,700,400i&amp;subset=latin,latin-ext\" rel=\"prefetch\">\\n        <link href=\"https://cdn.corona-renderer.com/iconfont/iconfont-f8211fedc3.css\" rel=\"prefetch\">\\n        <noscript>\\n            <link href=\"https://fonts.googleapis.com/css?family=Open+Sans:400,700,400i&amp;subset=latin,latin-ext\" rel=\"stylesheet\">\\n            <link href=\"https://cdn.corona-renderer.com/iconfont/iconfont-f8211fedc3.css\" rel=\"stylesheet\">\\n        </noscript>\\n\\n    <link href=\"https://cdn.corona-renderer.com/js/renderer-7d48587f6c.js\" rel=\"prefetch\">\\n\\n    \\n<link rel=\"apple-touch-icon\" sizes=\"180x180\" href=\"https://cdn.corona-renderer.com/favicons/apple-touch-icon.png\">\\n<link rel=\"icon\" type=\"image/png\" href=\"https://cdn.corona-renderer.com/favicons/favicon-32x32.png\" sizes=\"32x32\">\\n<link rel=\"icon\" type=\"image/png\" href=\"https://cdn.corona-renderer.com/favicons/favicon-16x16.png\" sizes=\"16x16\">\\n<link rel=\"manifest\" href=\"/assets/favicons/manifest.json\">\\n<link rel=\"mask-icon\" href=\"https://cdn.corona-renderer.com/favicons/safari-pinned-tab.svg\" color=\"#e6502a\">\\n<link rel=\"shortcut icon\" href=\"https://cdn.corona-renderer.com/favicons/favicon.ico\">\\n<meta name=\"msapplication-config\" content=\"/assets/favicons/browserconfig.xml\">\\n<meta name=\"theme-color\" content=\"#e6502a\">\\n\\n    <title id=\"snippet--title\">Corona Renderer</title>\\n</head>\\n\\n<body class=\"locale-en is-cookiebar\">\\n\\n    <noscript><iframe src=\"https://www.googletagmanager.com/ns.html?id=GTM-N92GV2\"\\n    height=\"0\" width=\"0\" style=\"display:none;visibility:hidden\"></iframe></noscript>\\n    <script>(function(w,d,s,l,i){ w[l]=w[l]||[];w[l].push({\\'gtm.start\\':\\n    new Date().getTime(),event:\\'gtm.js\\'});var f=d.getElementsByTagName(s)[0],\\n    j=d.createElement(s),dl=l!=\\'dataLayer\\'?\\'&l=\\'+l:\\'\\';j.async=true;j.src=\\n    \\'https://www.googletagmanager.com/gtm.js?id=\\'+i+dl;f.parentNode.insertBefore(j,f);\\n    })(window,document,\\'script\\',\\'dataLayer\\',\"GTM-N92GV2\");</script>\\n\\n\\n    <div class=\"l-container\">\\n        <div class=\"header\">\\n            <div class=\"header__logo\">\\n                <a id=\"ga-header-logo\" href=\"https://corona-renderer.com\">\\n                    <img src=\"https://cdn.corona-renderer.com/img/logo-3eb084a147.png\" alt=\"Corona Renderer\">\\n                </a>\\n            </div>\\n\\n            <div class=\"header__action\">\\n                <a class=\"button button--dark\" id=\"ga-header-buy\" href=\"/prices-licensing\">Buy now!</a>\\n\\n                    <a class=\"menu__item is-menu--active\" id=\"ga-header-login\" href=\"/customer-zone\">\\n                        Login\\n                    </a>\\n            </div>\\n\\n            <ul class=\"menu\">\\n\\n                    <li>\\n                        <a id=\"ga-menu-post\" href=\"/news\" class=\"menu__item\">\\n                            News\\n                        </a>\\n                    </li>\\n                    <li>\\n                        <a id=\"ga-menu-gallery\" href=\"/gallery\" class=\"menu__item\">\\n                            Gallery\\n                        </a>\\n                    </li>\\n                    <li>\\n                        <a id=\"ga-menu-features\" href=\"/features\" class=\"menu__item\">\\n                            Features\\n                        </a>\\n                    </li>\\n                    <li>\\n                        <a id=\"ga-menu-gettingstarted\" href=\"/getting-started\" class=\"menu__item\">\\n                            Getting Started\\n                        </a>\\n                    </li>\\n                    <li>\\n                        <a id=\"ga-menu-resources\" href=\"/resources\" class=\"menu__item\">\\n                            Resources\\n                        </a>\\n                    </li>\\n                    <li>\\n                        <a id=\"ga-menu-about\" href=\"/about\" class=\"menu__item\">\\n                            About\\n                        </a>\\n                    </li>\\n                    <li>\\n                        <a id=\"ga-menu-download\" href=\"/download\" class=\"menu__item\">\\n                            Download Corona\\n                        </a>\\n                    </li>\\n            </ul>\\n        </div>\\n    </div>\\n\\n\\n\\n\\n    <div class=\"slides\">\\n        <ul class=\"bx-slider bx-slider--homepage js-slider-homepage\">\\n\\n            <li>\\n                <img src=\"https://cdn.corona-renderer.com/img/slider/1-3da484f08d.jpg\">\\n\\n                <div class=\"slide\">\\n                    <h1 class=\"slide__title\">Corona Renderer Rocks</h1>\\n\\n                    <p class=\"slide__claim\">\\n                        Modern advanced high performance renderer for 3ds&nbsp;Max, Cinema&nbsp;4D, and other platforms.\\n                    </p>\\n\\n                    <a id=\"ga-slide_1_1\" class=\"button button--medium button--orange\" href=\"/prices-licensing\">Buy Now</a>\\n\\n                    <p class=\"slide__more\">\\n                        <a id=\"ga-slide_1_2\" href=\"/features\">Learn about Corona</a> or\\n                        <a id=\"ga-slide_1_3\" href=\"/download\">try demo</a>\\n                    </p>\\n                </div>\\n            </li>\\n\\n            <li>\\n                <img src=\"https://cdn.corona-renderer.com/img/slider/2-415621fd3d.jpg\">\\n\\n                <div class=\"slide\">\\n                    <h1 class=\"slide__title\">Artist Driven Development</h1>\\n\\n                    <p class=\"slide__claim\">\\n                        Developed for the artists by the artists.\\n                    </p>\\n\\n                    <a id=\"ga-slide_2_1\" class=\"button button--medium button--orange\" href=\"/features\">Features</a>\\n\\n                    <p class=\"slide__more\">\\n                        <a id=\"ga-slide_2_2\" href=\"/prices-licensing\">See pricing Info</a> or\\n                        <a id=\"ga-slide_2_3\" href=\"/download\">try demo</a>\\n                    </p>\\n                </div>\\n            </li>\\n\\n            <li>\\n                <img src=\"https://cdn.corona-renderer.com/img/slider/3-a875efc98d.jpg\">\\n\\n                <div class=\"slide\">\\n                    <h1 class=\"slide__title\">Affordable Pricing</h1>\\n\\n                    <p class=\"slide__claim\">\\n                        Thanks to our innovative pricing model, everyone can afford a modern renderer.\\n                    </p>\\n\\n                    <a id=\"ga-slide_3_1\" class=\"button button--medium button--orange\" href=\"/prices-licensing\">Price Plans</a>\\n\\n                    <p class=\"slide__more\">\\n                        <a id=\"ga-slide_3_2\" href=\"/features\">Learn more about Corona</a> or\\n                        <a id=\"ga-slide_3_3\" href=\"/download\">try demo</a>\\n                    </p>\\n                </div>\\n            </li>\\n        </ul>\\n    </div>\\n\\n    <div class=\"l-container\">\\n        <h2>News</h2>\\n\\n        <div class=\"l-row\">\\n                <div class=\"l-col-xs-6\">\\n                    <div class=\"post post--homepage\">\\n                        <p class=\"post__date\">December 17, 2019</p>\\n\\n                        <h3 class=\"post__title\">\\n                            <a id=\"ga-post-title1\" href=\"/news/merry-christmas-and-a-happy-new-year\">Merry Christmas and a Happy New Year!</a>\\n                        </h3>\\n\\n                        <p>As 2019 comes to a close, our thanks go out to the most important people in the development of Corona Renderer...</p>\\n\\n\\n                        <p class=\"post__button\">\\n                            <a id=\"ga-post-cta1\" class=\"button\" href=\"/news/merry-christmas-and-a-happy-new-year\">Read More</a>\\n                        </p>\\n                    </div>\\n                </div>\\n                <div class=\"l-col-xs-6\">\\n                    <div class=\"post post--homepage\">\\n                        <p class=\"post__date\">November 27, 2019</p>\\n\\n                        <h3 class=\"post__title\">\\n                            <a id=\"ga-post-title2\" href=\"/news/corona-renderer-5-for-cinema-4d\">Corona Renderer 5 for Cinema 4D released!</a>\\n                        </h3>\\n\\n                        <p><strong>Corona Renderer 5 for Cinema 4D released!</strong></p>\\n<p>Full details on our <a href=\"https://corona-renderer.com/blog/corona-renderer-5-for-cinema-4d-released/\">blog post</a></p>\\n\\n\\n                        <p class=\"post__button\">\\n                            <a id=\"ga-post-cta2\" class=\"button\" href=\"/news/corona-renderer-5-for-cinema-4d\">Read More</a>\\n                        </p>\\n                    </div>\\n                </div>\\n        </div>\\n\\n        <div class=\"forum__wrapper\">\\n            <h2 class=\"forum__title\"><a id=\"ga-forum-title\" target=\"_blank\" rel=\"noopener\" href=\"https://corona-renderer.com/forum/\">Hot forum topics</a></h2>\\n\\n    <div class=\"forum\">\\n        <div class=\"l-row\">\\n            <div class=\"l-col-xs-6\">\\n                <h5>The most active topics</h5>\\n\\n                <ul class=\"forum__list\">\\n                        <li><a href=\"https://corona-renderer.com/forum/index.php?topic=126.0\">Corona Material/Lights Converter (legacy)</a></li>\\n                        <li><a href=\"https://corona-renderer.com/forum/index.php?topic=999.0\">Juraj\\'s Renderings thread</a></li>\\n                        <li><a href=\"https://corona-renderer.com/forum/index.php?topic=559.0\">Corona Alpha4 Benchmark scene</a></li>\\n                        <li><a href=\"https://corona-renderer.com/forum/index.php?topic=96.0\">The most wanted feature?</a></li>\\n                        <li><a href=\"https://corona-renderer.com/forum/index.php?topic=1362.0\">DARTOFANG sketchbook</a></li>\\n                        <li><a href=\"https://corona-renderer.com/forum/index.php?topic=2018.0\">Icelandic coastal house</a></li>\\n                        <li><a href=\"https://corona-renderer.com/forum/index.php?topic=238.0\">Which 3D soft to integrate into next?</a></li>\\n                        <li><a href=\"https://corona-renderer.com/forum/index.php?topic=5416.0\">Unreal Engine 4 for ArchViz - Thoughts?</a></li>\\n                </ul>\\n            </div>\\n\\n            <div class=\"l-col-xs-6\">\\n                <h5>The newest topics</h5>\\n\\n                <ul class=\"forum__list\">\\n                        <li><a href=\"https://corona-renderer.com/forum/index.php?topic=21416.msg164649#new\" rel=\"nofollow\">Threadripper Builds</a></li>\\n                        <li><a href=\"https://corona-renderer.com/forum/index.php?topic=27793.msg164646#new\" rel=\"nofollow\">Goerlich Apartment</a></li>\\n                        <li><a href=\"https://corona-renderer.com/forum/index.php?topic=27969.msg164644#new\" rel=\"nofollow\">Test Renderer </a></li>\\n                        <li><a href=\"https://corona-renderer.com/forum/index.php?topic=27963.msg164639#new\" rel=\"nofollow\">Keep working when corona is Rendering?</a></li>\\n                        <li><a href=\"https://corona-renderer.com/forum/index.php?topic=27968.msg164637#new\" rel=\"nofollow\">How to use multi shader on mograph objects to create variations...</a></li>\\n                        <li><a href=\"https://corona-renderer.com/forum/index.php?topic=27937.msg164636#new\" rel=\"nofollow\">How much longer will using CPU only for rendering make sense?</a></li>\\n                        <li><a href=\"https://corona-renderer.com/forum/index.php?topic=27967.msg164635#new\" rel=\"nofollow\">KITCHEN 666 - Romas Noreika</a></li>\\n                        <li><a href=\"https://corona-renderer.com/forum/index.php?topic=27966.msg164630#new\" rel=\"nofollow\">Incorrect Color </a></li>\\n                </ul>\\n            </div>\\n        </div>\\n    </div>\\n\\n            <p class=\"buttons buttons--center\">\\n                <a id=\"ga-forum-cta\" class=\"button\" target=\"_blank\" rel=\"noopener\" href=\"https://corona-renderer.com/forum/\">Corona Forum</a>\\n            </p>\\n        </div>\\n    </div>\\n\\n    <div class=\"newsletter\" id=\"toc-newsletter-subscription\">\\n        <div class=\"l-container-narrowest\">\\n            <h5 class=\"newsletter__title\">Newsletter Subscription</h5>\\n\\n            <p class=\"newsletter__claim\">\\n                Don\\'t miss any latest major news and announcements about Corona Renderer, subscribe to our Newletter!\\n            </p>\\n\\n<div id=\"snippet--newsletter\"><form action=\"https://corona-renderer.com\" method=\"post\" id=\"frm-newsletterForm-form\" class=\"newsletter__form js-ajax\">\\n    <input type=\"email\" name=\"email\" placeholder=\"Your E-mail\" class=\"input input--newsletter\" id=\"frm-newsletterForm-form-email\" required data-nette-rules=\\'[{\"op\":\":filled\",\"msg\":\"Field \\\\\"Your E-mail\\\\\" is required.\"},{\"op\":\":email\",\"msg\":\"Field \\\\\"Your E-mail\\\\\" is not a valid e-mail.\"}]\\'>\\n    <input type=\"submit\" name=\"send\" class=\"button button--dark button--newsletter\" value=\"Subscribe Now!\">\\n<input type=\"hidden\" name=\"_token_\" value=\"0cid3fs8xossNzrkY9nDnra6uVlkxO3YWBeOs=\"><input type=\"hidden\" name=\"_do\" value=\"newsletterForm-form-submit\"><!--[if IE]><input type=IEbug disabled style=\"display:none\"><![endif]-->\\n</form>\\n\\n\\n\\n</div>\\n        </div>\\n    </div>\\n\\n    <div class=\"socials\">\\n        <ul class=\"socials__list\">\\n            <li>\\n                <a href=\"https://facebook.com/CoronaRenderer\" class=\"social social--facebook\" target=\"_blank\" rel=\"noopener\" title=\"Facebook\">\\n                    <i class=\"icon icon-social-facebook\"></i>\\n                </a>\\n            </li>\\n\\n            <li>\\n                <a href=\"https://www.youtube.com/user/CoronaRenderer/videos\" class=\"social social--youtube\" target=\"_blank\" rel=\"noopener\" title=\"YouTube\">\\n                    <i class=\"icon icon-social-youtube\"></i>\\n                </a>\\n            </li>\\n\\n            <li>\\n                <a href=\"https://linkedin.com/company/render-legion-s-r-o-\" class=\"social social--linkedin\" target=\"_blank\" rel=\"noopener\" title=\"LinkedIn\">\\n                    <i class=\"icon icon-social-linkedin\"></i>\\n                </a>\\n            </li>\\n\\n            <li>\\n                <a href=\"https://twitter.com/CoronaRenderer\" class=\"social social--twitter\" target=\"_blank\" rel=\"noopener\" title=\"Twitter\">\\n                    <i class=\"icon icon-social-twitter\"></i>\\n                </a>\\n            </li>\\n\\n            <li>\\n                <a href=\"https://www.instagram.com/coronarenderer/\" class=\"social social--instagram\" target=\"_blank\" rel=\"noopener\" title=\"Instagram\">\\n                    <i class=\"icon icon-social-instagram\"></i>\\n                </a>\\n            </li>\\n        </ul>\\n    </div>\\n\\n    <div class=\"footer\">\\n        <div class=\"l-container\">\\n            <div class=\"l-row\">\\n                <div class=\"l-col-xs-2 l-col-xs-offset-3\">\\n                    <h5 class=\"footer__title\">Corona Web</h5>\\n\\n                    <ul class=\"footer__menu\">\\n\\n                            <li>\\n                                <a id=\"ga-footer-news\" href=\"/news\">News</a>\\n                            </li>\\n                            <li>\\n                                <a id=\"ga-footer-gallery\" href=\"/gallery\">Gallery</a>\\n                            </li>\\n                            <li>\\n                                <a id=\"ga-footer-getting-started\" href=\"/getting-started\">Getting Started</a>\\n                            </li>\\n                            <li>\\n                                <a id=\"ga-footer-resources\" href=\"/resources\">Resources</a>\\n                            </li>\\n                            <li>\\n                                <a id=\"ga-footer-about\" href=\"/about\">About</a>\\n                            </li>\\n                            <li>\\n                                <a id=\"ga-footer-download\" href=\"/download\">Download</a>\\n                            </li>\\n                            <li>\\n                                <a id=\"ga-footer-privacy-policy\" href=\"/about/privacy-policy\">Privacy Policy</a>\\n                            </li>\\n                            <li>\\n                                <a id=\"ga-footer-help\" href=\"/resources/help\">Help</a>\\n                            </li>\\n                    </ul>\\n                </div>\\n\\n                <div class=\"l-col-xs-2\">\\n                    <h5 class=\"footer__title\">Corona Renderer</h5>\\n\\n                    <ul class=\"footer__menu\">\\n\\n                            <li>\\n                                <a id=\"ga-footer-features\" href=\"/features\">Features</a>\\n                            </li>\\n                            <li>\\n                                <a id=\"ga-footer-download-demo\" href=\"/download\">Download Demo</a>\\n                            </li>\\n\\n                        <li>\\n                            <a id=\"ga-footer-buy\" href=\"/prices-licensing\">Buy Corona</a>\\n                        </li>\\n\\n                        <li>\\n                            <a id=\"ga-footer-benchmark\" href=\"/benchmark\">Benchmark</a>\\n                        </li>\\n                    </ul>\\n                </div>\\n\\n                <div class=\"l-col-xs-4\">\\n                    <h5 class=\"footer__title\">External Links</h5>\\n\\n                    <ul class=\"footer__menu\">\\n\\n                            <li>\\n                                <a href=\"https://corona-renderer.com/blog/\" target=\"_blank\" rel=\"noopener\" id=\"ga-footer-external1\">Blog</a>\\n                            </li>\\n                            <li>\\n                                <a href=\"https://corona-renderer.com/forum/\" target=\"_blank\" rel=\"noopener\" id=\"ga-footer-external2\">Corona Forum</a>\\n                            </li>\\n                            <li>\\n                                <a href=\"https://coronarenderer.freshdesk.com/support/home\" target=\"_blank\" rel=\"noopener\" id=\"ga-footer-external3\">Support &ndash; 3ds Max Helpdesk</a>\\n                            </li>\\n                            <li>\\n                                <a href=\"https://help.c4d.corona-renderer.com/support/home\" target=\"_blank\" rel=\"noopener\" id=\"ga-footer-external4\">Support &ndash; Cinema&nbsp;4D Helpdesk</a>\\n                            </li>\\n                            <li>\\n                                <a href=\"https://corona-renderer.com/wiki/\" target=\"_blank\" rel=\"noopener\" id=\"ga-footer-external5\">Support &ndash; Corona Wiki</a>\\n                            </li>\\n                            <li>\\n                                <a href=\"https://corona-renderer.com/bugs/\" target=\"_blank\" rel=\"noopener\" id=\"ga-footer-external6\">Bug Tracker</a>\\n                            </li>\\n                            <li>\\n                                <a href=\"https://www.youtube.com/user/CoronaRenderer/videos\" target=\"_blank\" rel=\"noopener\" id=\"ga-footer-external7\">Corona Youtube Channel</a>\\n                            </li>\\n                            <li>\\n                                <a href=\"http://www.racoon-artworks.de/CoronaConverter/CoronaConverter.html\" target=\"_blank\" rel=\"noopener\" id=\"ga-footer-external8\">Material/Lights Converter</a>\\n                            </li>\\n                            <li>\\n                                <a href=\"https://corona-academy.com/\" target=\"_blank\" rel=\"noopener\" id=\"ga-footer-external9\">Corona Academy</a>\\n                            </li>\\n                    </ul>\\n                </div>\\n            </div>\\n\\n            <p class=\"footer__copyright\">\\n                <a class=\"footer__logo\" id=\"ga-footer-logo\" href=\"https://corona-renderer.com\">\\n                    <img src=\"https://cdn.corona-renderer.com/img/logo-footer-399b925969.png\" alt=\"Corona Renderer\">\\n                </a>\\n\\n                &copy; Chaos Czech a.s. 2020. All rights reserved.\\n            </p>\\n        </div>\\n    </div>\\n\\n    <script src=\"https://cdn.corona-renderer.com/js/renderer-7d48587f6c.js\" async defer></script>\\n\\n        <script src=\"/cookiewarning.js\" async defer></script>\\n\\n    \\n    <div class=\"contact js-contact\">\\n        <h5 class=\"contact__title js-contact-toggle\">\\n            Leave us&nbsp;a message!\\n        </h5>\\n\\n        <div class=\"contact__body js-contact-body\">\\n<div id=\"snippet--contact\"><form action=\"https://corona-renderer.com\" method=\"post\" id=\"frm-contactForm-form\" class=\"contact__form js-ajax\">\\n    <p class=\"contact__info\">\\n        Please leave us a&nbsp;message and we’ll get right back.\\n    </p>\\n\\n\\n            \\n            <input type=\"hidden\" name=\"_token_\" value=\"073umnfd5lJW6Hp5KYBl7Jm/iE+nkQk2PvNag=\">\\n\\n            <label for=\"frm-contactForm-form-name\" class=\"contact__label\">Name</label>\\n            <input type=\"text\" name=\"name\" class=\"input\" id=\"frm-contactForm-form-name\" required data-nette-rules=\\'[{\"op\":\":filled\",\"msg\":\"Field \\\\\"Name\\\\\" is required.\"}]\\'>\\n\\n            <label for=\"frm-contactForm-form-email\" class=\"contact__label\">E-mail</label>\\n            <input type=\"email\" name=\"email\" class=\"input\" id=\"frm-contactForm-form-email\" required data-nette-rules=\\'[{\"op\":\":filled\",\"msg\":\"Field \\\\\"E-mail\\\\\" is required.\"},{\"op\":\":email\",\"msg\":\"Field \\\\\"E-mail\\\\\" is not a valid e-mail.\"}]\\'>\\n\\n            <label for=\"frm-contactForm-form-message\" class=\"contact__label\">Message</label>\\n            <textarea name=\"message\" class=\"input input--textarea\" id=\"frm-contactForm-form-message\" required data-nette-rules=\\'[{\"op\":\":filled\",\"msg\":\"Field \\\\\"Message\\\\\" is required.\"}]\\'></textarea>\\n\\n            <div class=\"g-recaptcha js-contact-recaptcha contact__recaptcha\" data-sitekey=\"6LfUsDgUAAAAAKTJG1EkohP0HFbicfnK_nu6zU0-\" id=\"frm-contactForm-form-captcha\"></div>\\n            <p class=\"contact__button\">\\n                <input type=\"submit\" name=\"send\" class=\"button button--dark button--medium\" value=\"Send\">\\n            </p>\\n            \\n            <input type=\"hidden\" name=\"_do\" value=\"contactForm-form-submit\">\\n\\n</form>\\n\\n\\n\\n</div>        </div>\\n    </div>\\n</body>\\n</html>\\n\\n'"
      ]
     },
     "execution_count": 49,
     "metadata": {},
     "output_type": "execute_result"
    }
   ],
   "source": [
    "html.text"
   ]
  },
  {
   "cell_type": "code",
   "execution_count": 54,
   "metadata": {},
   "outputs": [
    {
     "data": {
      "text/plain": [
       "True"
      ]
     },
     "execution_count": 54,
     "metadata": {},
     "output_type": "execute_result"
    }
   ],
   "source": [
    "type(html) == requests.models.Response"
   ]
  },
  {
   "cell_type": "code",
   "execution_count": 56,
   "metadata": {},
   "outputs": [
    {
     "name": "stdout",
     "output_type": "stream",
     "text": [
      "word          some other text\n",
      "exacerbate    some other text\n",
      "areallylongwords some other text\n",
      "short         some other text\n"
     ]
    }
   ],
   "source": [
    "words = [\"word\", \"exacerbate\", \"areallylongwords\", \"short\"]\n",
    "for word in words:\n",
    "    print(f\"{word:<13} some other text\")"
   ]
  },
  {
   "cell_type": "code",
   "execution_count": null,
   "metadata": {},
   "outputs": [],
   "source": []
  }
 ],
 "metadata": {
  "kernelspec": {
   "display_name": "Python 3",
   "language": "python",
   "name": "python3"
  },
  "language_info": {
   "codemirror_mode": {
    "name": "ipython",
    "version": 3
   },
   "file_extension": ".py",
   "mimetype": "text/x-python",
   "name": "python",
   "nbconvert_exporter": "python",
   "pygments_lexer": "ipython3",
   "version": "3.7.3"
  }
 },
 "nbformat": 4,
 "nbformat_minor": 4
}
